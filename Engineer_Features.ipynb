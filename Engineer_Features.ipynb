{
 "cells": [
  {
   "cell_type": "markdown",
   "metadata": {},
   "source": [
    "# Imports"
   ]
  },
  {
   "cell_type": "code",
   "execution_count": null,
   "metadata": {},
   "outputs": [],
   "source": [
    "from os.path import join\n",
    "\n",
    "import matplotlib.pyplot as plt\n",
    "import pandas as pd\n",
    "from pandas.api.types import is_numeric_dtype\n",
    "import numpy as np\n",
    "from tqdm.auto import tqdm\n",
    "import seaborn as sns\n",
    "\n",
    "from random import randint\n",
    "\n",
    "import seaborn as sns"
   ]
  },
  {
   "cell_type": "markdown",
   "metadata": {},
   "source": [
    "# Load data"
   ]
  },
  {
   "cell_type": "code",
   "execution_count": null,
   "metadata": {},
   "outputs": [],
   "source": [
    "enroll = pd.read_csv(join('data', 'original', 'enroll.csv'), sep='\\t', low_memory=False)\n",
    "profile = pd.read_csv(join('data', 'original', 'profile.csv'), sep='\\t', low_memory=False)"
   ]
  },
  {
   "cell_type": "code",
   "execution_count": null,
   "metadata": {},
   "outputs": [],
   "source": [
    "df = enroll.merge(profile, on='subjid', how='left') # Add profile table\n",
    "\n",
    "df['dsplace'].replace(9999, 5, inplace=True)  # 5 is the unknown category, missing means not applicable here\n",
    "\n",
    "# Replace Strings and Integers that indicate missing values\n",
    "df.replace(r'(^\\s*$|MISSING|WRONG|^9999$|^9999\\.0$|^9998$|^9998\\.0$|^9997$|^9997\\.0$|^9996$|^9996\\.0$)', np.nan,\n",
    "           regex=True, inplace=True)\n",
    "df.replace([9999, 9998, 9997, 9996], np.nan, inplace=True)\n",
    "\n",
    "df['age'] = df['age'].replace('<18', 17).astype(int)\n",
    "df['caglow'] = df['caglow'].replace('>28', 29).astype(int)\n",
    "df['caghigh'] = df['caghigh'].replace('>70', 71).astype(int)\n",
    "\n",
    "print(df.shape)\n",
    "df.head()"
   ]
  },
  {
   "cell_type": "code",
   "execution_count": null,
   "metadata": {},
   "outputs": [],
   "source": [
    "# Check which variables contain strings\n",
    "(df.dtypes == object).replace(False, np.nan).dropna()"
   ]
  },
  {
   "cell_type": "code",
   "execution_count": null,
   "metadata": {},
   "outputs": [],
   "source": [
    "print(df.shape)\n",
    "print('Patients:', df['subjid'].nunique())\n",
    "print('Visits  :', df.shape[0])\n",
    "print(df.groupby('subjid')['seq'].count().agg(['mean', 'std']).round(2))\n",
    "print('Max visit:', df.groupby('subjid').size().max())"
   ]
  },
  {
   "cell_type": "markdown",
   "metadata": {},
   "source": [
    "# Select patients"
   ]
  },
  {
   "cell_type": "code",
   "execution_count": null,
   "metadata": {},
   "outputs": [],
   "source": [
    "df = df.loc[(((df['caghigh'] >= 36) & (df['caghigh'] <= 59)) & # CAG 36-59\n",
    "             ((df['hddiagn'] >= 21) | (df['sxrater'] >= 21))   # AAO >=21\n",
    "            )]\n",
    "print(df.shape)\n",
    "print('Patients:', df['subjid'].nunique())\n",
    "print('Visits  :', df.shape[0])\n",
    "print(df.groupby('subjid')['seq'].count().agg(['mean', 'std']).round(2))\n",
    "df.head()"
   ]
  },
  {
   "cell_type": "code",
   "execution_count": null,
   "metadata": {},
   "outputs": [],
   "source": [
    "df['age'].plot.hist(rot=0, bins=len(df['age'].sort_values().unique()) // 2)\n",
    "plt.xticks(range(20, 95, 5))\n",
    "plt.xlabel('age')\n",
    "plt.ylabel('counts')"
   ]
  },
  {
   "cell_type": "code",
   "execution_count": null,
   "metadata": {},
   "outputs": [],
   "source": [
    "df['caghigh'].value_counts().sort_index().plot.bar(rot=0)\n",
    "plt.xlabel('caghigh')\n",
    "plt.ylabel('counts')"
   ]
  },
  {
   "cell_type": "code",
   "execution_count": null,
   "metadata": {},
   "outputs": [],
   "source": [
    "df['caglow'].value_counts().sort_index().plot.bar(rot=0)\n",
    "plt.xlabel('caglow')\n",
    "plt.ylabel('counts')"
   ]
  },
  {
   "cell_type": "markdown",
   "metadata": {},
   "source": [
    "# Infer hdcat using backward fill + forward fill"
   ]
  },
  {
   "cell_type": "markdown",
   "metadata": {},
   "source": [
    "**Example**"
   ]
  },
  {
   "cell_type": "code",
   "execution_count": null,
   "metadata": {},
   "outputs": [],
   "source": [
    "df.loc[(df['subjid'] == 'R002593663') & (df['seq'] == 1), 'hdcat'] = np.nan\n",
    "df.loc[df['subjid'] == 'R002593663', ['subjid', 'seq', 'hdcat']]"
   ]
  },
  {
   "cell_type": "code",
   "execution_count": null,
   "metadata": {},
   "outputs": [],
   "source": [
    "df.loc[df['subjid'] == 'R002593663'].groupby('subjid')['hdcat'].fillna(method='bfill').fillna(method='ffill')"
   ]
  },
  {
   "cell_type": "markdown",
   "metadata": {},
   "source": [
    "**Replace**"
   ]
  },
  {
   "cell_type": "code",
   "execution_count": null,
   "metadata": {},
   "outputs": [],
   "source": [
    "df['hdcat'] = df.groupby('subjid')['hdcat'].fillna(method='bfill').fillna(method='ffill')\n",
    "df.loc[df['subjid'] == 'R002593663', ['subjid', 'seq', 'hdcat']]"
   ]
  },
  {
   "cell_type": "markdown",
   "metadata": {},
   "source": [
    "**Count number of patients which are premanifest, manifest or both**"
   ]
  },
  {
   "cell_type": "code",
   "execution_count": null,
   "metadata": {},
   "outputs": [],
   "source": [
    "df['hdcat'].value_counts(dropna=False)"
   ]
  },
  {
   "cell_type": "code",
   "execution_count": null,
   "metadata": {},
   "outputs": [],
   "source": [
    "pre_and_manifest_subjects = (df.groupby('subjid')['hdcat'].nunique() > 1).replace(False, np.nan).dropna().index\n",
    "premanifest_subjects = df.loc[(~df['subjid'].isin(pre_and_manifest_subjects)) & (df['hdcat'] == 2)]\n",
    "manifest_subjects = df.loc[(~df['subjid'].isin(pre_and_manifest_subjects)) & (df['hdcat'] == 3)]\n",
    "print('premanifest: {}\\nmanifest: {}\\npre and manifest: {}'.format(len(premanifest_subjects),\n",
    "                                                                   len(manifest_subjects),\n",
    "                                                                   len(pre_and_manifest_subjects),\n",
    "                                                                   )\n",
    "     )"
   ]
  },
  {
   "cell_type": "markdown",
   "metadata": {},
   "source": [
    "# Save subset"
   ]
  },
  {
   "cell_type": "code",
   "execution_count": null,
   "metadata": {},
   "outputs": [],
   "source": [
    "df.to_csv(join('data', 'pre_and_manifest.csv'))"
   ]
  },
  {
   "cell_type": "markdown",
   "metadata": {},
   "source": [
    "# Missing before feature engineering"
   ]
  },
  {
   "cell_type": "code",
   "execution_count": null,
   "metadata": {},
   "outputs": [],
   "source": [
    "def pieplot(df_in):\n",
    "    plt.figure(figsize=(1.5,1.5))\n",
    "    mis = round(df.isnull().sum().sum() / (df.shape[0] * df.shape[1]) * 100, 2)\n",
    "    x = [mis, 100-mis]\n",
    "    plt.pie(x, startangle=90, pctdistance=0.85, colors = ['white', 'mediumseagreen'],\n",
    "            wedgeprops={\"edgecolor\":\"w\", 'linewidth':.5})\n",
    "    #draw circle\n",
    "    plt.text(-0.48,-0.05, str(mis) + '%', fontsize=10)\n",
    "    centre_circle = plt.Circle((0,0),0.70,fc='white', edgecolor='w', linewidth=.5)\n",
    "    fig = plt.gcf()\n",
    "    fig.gca().add_artist(centre_circle)\n",
    "    # Equal aspect ratio ensures that pie is drawn as a circle\n",
    "    plt.tight_layout()\n",
    "    plt.savefig('test.png', dpi=900)"
   ]
  },
  {
   "cell_type": "code",
   "execution_count": null,
   "metadata": {},
   "outputs": [],
   "source": [
    "pieplot(df.copy())"
   ]
  },
  {
   "cell_type": "code",
   "execution_count": null,
   "metadata": {
    "scrolled": true
   },
   "outputs": [],
   "source": [
    "print('Missing:', str(round(df.isnull().sum().sum() / (df.shape[0] * df.shape[1]) * 100, 2)) + '%')"
   ]
  },
  {
   "cell_type": "markdown",
   "metadata": {},
   "source": [
    "# List of features which will be dropped"
   ]
  },
  {
   "cell_type": "code",
   "execution_count": null,
   "metadata": {},
   "outputs": [],
   "source": [
    "cols = ['dssage', 'dsplace', 'dsend',\n",
    "        'momagesx', 'dadagesx',\n",
    "        'sxs_m', 'sxs_c', 'sxs_p', 'sxs_o',\n",
    "        'sxf_m', 'sxf_c', 'sxf_p', 'sxf_o',\n",
    "        'sxr_m', 'sxr_c', 'sxr_p', 'sxr_o',\n",
    "         #'ccpsyfh',\n",
    "        'opifrq', 'barfrq', 'ritfrq', 'trqfrq', 'herfrq', 'inhfrq',\n",
    "        'xgwas', 'xbsp', 'xpheno', 'xmorpho', 'ximage',\n",
    "        'updmed', 'updmh', 'updhdh', 'mvsrc', 'mvrsn', 'crlvl', 'dpdy',\n",
    "        'attmpt1dy', 'attmpt2dy', 'sxgsdy',\n",
    "        'rdcwkd', 'rdcwkhw',\n",
    "        'miscore', 'fiscore',\n",
    "        'gen1', 'gen2', 'gen3', 'gen4', 'gen5', 'gen6',\n",
    "        'pbas1wo', 'pbas2wo', 'pbas3wo', 'pbas4wo', 'pbas5wo', 'pbas6wo',\n",
    "        'pbas7wo', 'pbas8wo', 'pbas9wo', 'pbas10wo', 'pbas11wo',\n",
    "        'wpaiscr1', 'wpaiscr2', 'wpaiscr3', 'wpaiscr4',\n",
    "        'attmpt11', 'attmpt12', 'attmpt21', 'attmpt22', 'attmpt3dy', 'attmpt31', 'attmpt32'\n",
    "       ]"
   ]
  },
  {
   "cell_type": "code",
   "execution_count": null,
   "metadata": {},
   "outputs": [],
   "source": [
    "len(cols)"
   ]
  },
  {
   "cell_type": "markdown",
   "metadata": {},
   "source": [
    "### Dropping Useless Features"
   ]
  },
  {
   "cell_type": "code",
   "execution_count": null,
   "metadata": {},
   "outputs": [],
   "source": [
    "df = df.drop(['updmed', 'updmh', 'updhdh', # Update to medication, comorbid, clinical characteristics and or onset of HD?\n",
    "              'mvsrc', 'mvrsn', 'crlvl', 'dpdy', # Features assocciated with missed visit\n",
    "             ], axis=1)"
   ]
  },
  {
   "cell_type": "code",
   "execution_count": null,
   "metadata": {},
   "outputs": [],
   "source": [
    "# Date of most recent attempts (1 and 2)\n",
    "# Day of data entry of Profile information (sxgsdy)\n",
    "df = df.drop(['attmpt1dy', 'attmpt2dy', 'sxgsdy'], axis=1)"
   ]
  },
  {
   "cell_type": "code",
   "execution_count": null,
   "metadata": {},
   "outputs": [],
   "source": [
    "pieplot(df.copy())"
   ]
  },
  {
   "cell_type": "markdown",
   "metadata": {},
   "source": [
    "# Outliers (u + 4xstd)"
   ]
  },
  {
   "cell_type": "markdown",
   "metadata": {},
   "source": [
    "<b> Get stats needed to find outliers </b>"
   ]
  },
  {
   "cell_type": "code",
   "execution_count": null,
   "metadata": {},
   "outputs": [],
   "source": [
    "# Remove variables with only 1 value, string values, and categorical values\n",
    "stats = df.loc[:,df.nunique() > 2]\\\n",
    "          .drop(['subjid', 'visit', 'region', 'seq', 'handed', 'diagconf', 'race', 'pbas2sv', 'pbas2fr',\n",
    "                 'pbas2wo', 'pbas9sv', 'pbas9fr', 'pbas9wo', 'pbas10sv', 'pbas10fr', 'pbas10wo'],\n",
    "                axis=1).describe()\n",
    "stats"
   ]
  },
  {
   "cell_type": "markdown",
   "metadata": {},
   "source": [
    "<b> Find variables which are considered outliers </b>"
   ]
  },
  {
   "cell_type": "code",
   "execution_count": null,
   "metadata": {},
   "outputs": [],
   "source": [
    "cols = stats.loc[:,\n",
    "    (stats.loc['max'] > (stats.loc['mean'] + (4 * stats.loc['std']))) | \\\n",
    "    (stats.loc['min'] < (stats.loc['mean'] - (4 * stats.loc['std'])))\n",
    "].columns\n",
    "\n",
    "stats.loc[:,\n",
    "    (stats.loc['max'] > (stats.loc['mean'] + (4 * stats.loc['std']))) | \\\n",
    "    (stats.loc['min'] < (stats.loc['mean'] - (4 * stats.loc['std'])))\n",
    "]"
   ]
  },
  {
   "cell_type": "markdown",
   "metadata": {},
   "source": [
    "<b> Sort outliers by the difference of max and min value (nicer plot)</b>"
   ]
  },
  {
   "cell_type": "code",
   "execution_count": null,
   "metadata": {},
   "outputs": [],
   "source": [
    "pairs = [pair for pair in zip(cols,\n",
    "                              np.nanmax(df[cols].values.astype(float), axis=0) - \\\n",
    "                              np.nanmin(df[cols].values.astype(float), axis=0),\n",
    "                             )\n",
    "        ]\n",
    "sort_pairs = sorted(pairs, key=lambda p: p[1])\n",
    "sort_cols = [pair[0] for pair in sort_pairs]\n",
    "sort_cols[:5]"
   ]
  },
  {
   "cell_type": "markdown",
   "metadata": {},
   "source": [
    "<b> Remove nan values </b>"
   ]
  },
  {
   "cell_type": "code",
   "execution_count": null,
   "metadata": {},
   "outputs": [],
   "source": [
    "x = df[sort_cols].values\n",
    "mask = ~np.isnan(x)\n",
    "filtered_data = [d[m] for d, m in zip(x.T, mask.T)]\n",
    "print('Outlier variables:', len(filtered_data))"
   ]
  },
  {
   "cell_type": "markdown",
   "metadata": {},
   "source": [
    "<b> Plot outliers </b>"
   ]
  },
  {
   "cell_type": "code",
   "execution_count": null,
   "metadata": {
    "scrolled": false
   },
   "outputs": [],
   "source": [
    "vals = 8\n",
    "\n",
    "rows = int(np.ceil(len(filtered_data)/vals))\n",
    "fig, axs = plt.subplots(rows, figsize=(12,18))\n",
    "\n",
    "for i in range(0, len(filtered_data), vals):\n",
    "    r = int(np.ceil(i/vals))\n",
    "    x = filtered_data[i:i+vals]\n",
    "        \n",
    "    axs[r].boxplot(x, labels=sort_cols[i:i+vals])\n",
    "    \n",
    "    # sns.boxplot(x=range(i, i+11), y=np.array(x), ax=axs[r], labels=sort_cols[i:i+11])\n",
    "    \n",
    "    s = stats[sort_cols[i:i+vals]]\n",
    "    \n",
    "    axs[i//vals].scatter(range(1, s.shape[1]+1), s.loc['mean'] + (4*s.loc['std']), c='red', marker='_', s=500)\n",
    "    axs[i//vals].scatter(range(1, s.shape[1]+1), s.loc['mean'] - (4*s.loc['std']), c='red', marker='_', s=500)\n",
    "\n",
    "# plt.tight_layout()\n",
    "# fig.savefig('figures/outliers.png', dpi=1200)"
   ]
  },
  {
   "cell_type": "markdown",
   "metadata": {},
   "source": [
    "<b> Interesting outliers (PDS4) </b>"
   ]
  },
  {
   "cell_type": "code",
   "execution_count": null,
   "metadata": {},
   "outputs": [],
   "source": [
    "# Outliers found in PDS4 were corrected in PDS5\n",
    "\n",
    "cols = ['trlb1', 'trlb2', 'trlb3', 'alcunits', 'tug1'] # sit, trla, scst, scnt, swrt, verfct\n",
    "fig, axs = plt.subplots(1, len(cols), figsize=(15,5))\n",
    "for i, c in enumerate(cols):\n",
    "    axs[i].boxplot(df[c].dropna().values, labels=[c])\n",
    "pass"
   ]
  },
  {
   "cell_type": "markdown",
   "metadata": {},
   "source": [
    "## trlb outlier (PDS4)"
   ]
  },
  {
   "cell_type": "code",
   "execution_count": null,
   "metadata": {
    "scrolled": true
   },
   "outputs": [],
   "source": [
    "print(df.trlb2.describe())\n",
    "# df.loc[(df['trlb1'] < 240) & (df['trlb2'] > 25), 'trlb2'] = 25\n",
    "# df.loc[(df.trlb2 > 25), ['trlb1', 'trlb2', 'trlb3']] = np.nan\n",
    "# df.loc[(df.trlb3 == 240), ['trlb3']] = np.nan"
   ]
  },
  {
   "cell_type": "markdown",
   "metadata": {},
   "source": [
    "### Remove alcunit (PDS4)"
   ]
  },
  {
   "cell_type": "code",
   "execution_count": null,
   "metadata": {},
   "outputs": [],
   "source": [
    "# Remove alcunits outlier\n",
    "# idx = df[df['alcunits'] == 875].index.values[0]\n",
    "# df.loc[idx,'alcunits'] = np.nan"
   ]
  },
  {
   "cell_type": "markdown",
   "metadata": {},
   "source": [
    "# Profile"
   ]
  },
  {
   "cell_type": "code",
   "execution_count": null,
   "metadata": {},
   "outputs": [],
   "source": [
    "cols = ['region', 'sex', 'race', 'handed', 'hxsid', 'dssage', 'dsplace', 'dsend', 'caghigh', 'caglow',\n",
    "        'momhd', 'momagesx', 'dadhd', 'dadagesx', 'fhx',\n",
    "        'ccmtr', 'ccmtrage', 'sxsubj', 'sxsubjm', 'sxs_m', 'sxs_c', 'sxs_p', 'sxs_o', 'sxfam',\n",
    "        'sxfamm', 'sxf_m', 'sxf_c', 'sxf_p', 'sxf_o', 'hddiagn', 'sxest', 'sxrater', 'sxestcfd', 'sxreas', 'sxgs',\n",
    "        'sxraterm', 'sxr_m', 'sxr_c', 'sxr_p', 'sxr_o', 'ccdep', 'ccdepage', 'ccirb', 'ccirbage',\n",
    "        'ccvab', 'ccvabage', 'ccapt', 'ccaptage', 'ccpob', 'ccpobage', 'ccpsy', 'ccpsyage', 'ccpsyfh', 'cccog',\n",
    "        'cccogage', 'xgwas', 'xbsp', 'xpheno', 'xmorpho', 'ximage'\n",
    "       ]"
   ]
  },
  {
   "cell_type": "markdown",
   "metadata": {},
   "source": [
    "#### Drop"
   ]
  },
  {
   "cell_type": "code",
   "execution_count": null,
   "metadata": {},
   "outputs": [],
   "source": [
    "# Drop columns\n",
    "drop_cols = ['dssage', 'dsplace', 'dsend', # Age of Death, Place of death, Cause of death\n",
    "             'sxs_m', 'sxs_c', 'sxs_p', 'sxs_o', # \n",
    "             'sxf_m', 'sxf_c', 'sxf_p', 'sxf_o',\n",
    "             'sxr_m', 'sxr_c', 'sxr_p', 'sxr_o',\n",
    "             'xgwas', 'xbsp', 'xpheno', 'xmorpho', 'ximage']\n",
    "\n",
    "df = df.drop(drop_cols, axis=1)\n",
    "\n",
    "cols = [c for c in cols if c not in drop_cols]"
   ]
  },
  {
   "cell_type": "code",
   "execution_count": null,
   "metadata": {},
   "outputs": [],
   "source": [
    "pieplot(df.copy())"
   ]
  },
  {
   "cell_type": "markdown",
   "metadata": {},
   "source": [
    "### Change race to fit order"
   ]
  },
  {
   "cell_type": "code",
   "execution_count": null,
   "metadata": {},
   "outputs": [],
   "source": [
    "# This column contains non-continous class data\n",
    "race_dict = {8: 4, 16: 5, 15: 0}\n",
    "df['race'] = df['race'].apply(lambda l: race_dict[l] if l in race_dict.keys() else l)"
   ]
  },
  {
   "cell_type": "markdown",
   "metadata": {},
   "source": [
    "# Replace nan HDDIAGN with sxrater if missing"
   ]
  },
  {
   "cell_type": "code",
   "execution_count": null,
   "metadata": {
    "scrolled": true
   },
   "outputs": [],
   "source": [
    "test = df.groupby('subjid').tail(1)\n",
    "test.head()"
   ]
  },
  {
   "cell_type": "code",
   "execution_count": null,
   "metadata": {},
   "outputs": [],
   "source": [
    "print('Pre-Manifest missing AAO:', ((test['hdcat'] == 2) & (test.hddiagn.isnull())).sum(), '/', (test.hdcat == 2).sum())\n",
    "print('Manifest missing AAO:', ((test['hdcat'] == 3) & (test.hddiagn.isnull())).sum(), '/', (test.hdcat == 3).sum())"
   ]
  },
  {
   "cell_type": "code",
   "execution_count": null,
   "metadata": {},
   "outputs": [],
   "source": [
    "test = test[test['hddiagn'].isnull()]"
   ]
  },
  {
   "cell_type": "code",
   "execution_count": null,
   "metadata": {},
   "outputs": [],
   "source": [
    "print('Missing AAO in premanifest and manifest (hddiagn):', test.shape[0])\n",
    "print('Available AAO estimates (sxest):', ( (test['sxest'] == 1) ).sum() )\n",
    "\n",
    "print('  - High confidence:', ( (test['sxest'] == 1) & (test['sxestcfd'] == 1) ).sum() )\n",
    "print('  - Low confidence:', ( (test['sxest'] == 1) & (test['sxestcfd'] == 2) ).sum() )\n",
    "print('  - NaN confidence:', ( (test['sxest'] == 1) & (test['sxestcfd'].isnull()) ).sum() )\n",
    "\n",
    "\n",
    "print('Available AAO estimates (sxrater):', ( (~test['sxrater'].isnull()) ).sum() )\n",
    "print('  - High confidence:', ( (~test['sxrater'].isnull()) & (test['sxestcfd'] == 1) ).sum() )\n",
    "print('  - Low confidence:', ( (~test['sxrater'].isnull()) & (test['sxestcfd'] == 2) ).sum() )\n",
    "print('  - NaN confidence:', ( (~test['sxrater'].isnull()) & (test['sxestcfd'].isnull()) ).sum() )"
   ]
  },
  {
   "cell_type": "code",
   "execution_count": null,
   "metadata": {},
   "outputs": [],
   "source": [
    "high_conf = df.loc[(df['seq']==1) & (df['sxestcfd'] == 1),\n",
    "                   ['caghigh', 'hddiagn', 'sxrater']].corr()\n",
    "high_conf.name = 'sxrater_high'\n",
    "high_conf = high_conf.rename(index={'sxrater': 'sxrater_high'}, columns={'sxrater': 'sxrater_high'})"
   ]
  },
  {
   "cell_type": "code",
   "execution_count": null,
   "metadata": {},
   "outputs": [],
   "source": [
    "low_conf = df.loc[(df['seq']==1) & (df['sxestcfd'] == 2),\n",
    "                  ['caghigh', 'hddiagn', 'sxrater']].corr()\n",
    "low_conf.name = 'sxrater_low'\n",
    "low_conf = low_conf.rename(index={'sxrater': 'sxrater_low'}, columns={'sxrater': 'sxrater_low'})"
   ]
  },
  {
   "cell_type": "code",
   "execution_count": null,
   "metadata": {},
   "outputs": [],
   "source": [
    "nan_conf = df.loc[(df['seq']==1) & (df['sxestcfd'].isnull()),\n",
    "                  ['caghigh', 'hddiagn', 'sxrater']].corr()\n",
    "nan_conf.name = 'sxrater_nan'\n",
    "nan_conf = nan_conf.rename(index={'sxrater': 'sxrater_nan'}, columns={'sxrater': 'sxrater_nan'})"
   ]
  },
  {
   "cell_type": "code",
   "execution_count": null,
   "metadata": {},
   "outputs": [],
   "source": [
    "corrs = df.loc[df['seq']==1,['caghigh', 'hddiagn', 'sxrater']].corr()\n",
    "corrs['sxrater_high'] = high_conf['sxrater_high']\n",
    "corrs.loc['sxrater_high'] = high_conf.loc['sxrater_high']\n",
    "corrs['sxrater_low'] = low_conf['sxrater_low']\n",
    "corrs.loc['sxrater_low'] = low_conf.loc['sxrater_low']\n",
    "corrs['sxrater_nan'] = nan_conf['sxrater_nan']\n",
    "corrs.loc['sxrater_nan'] = nan_conf.loc['sxrater_nan']"
   ]
  },
  {
   "cell_type": "code",
   "execution_count": null,
   "metadata": {
    "scrolled": true
   },
   "outputs": [],
   "source": [
    "from scipy.stats import pearsonr\n",
    "\n",
    "cols = ['caghigh', 'hddiagn']\n",
    "rows = cols + ['sxrater', 'sxrater_high', 'sxrater_low', 'sxrater_nan']\n",
    "corr = np.empty((len(rows), len(cols)))\n",
    "pvalues = corr.copy()\n",
    "anno = corr.copy().astype(str)\n",
    "\n",
    "target_p = 0.01\n",
    "for r, r_name in enumerate(rows):\n",
    "    for c, c_name in enumerate(cols):\n",
    "        if r_name == 'sxrater_high':\n",
    "            r_val, c_val = df.loc[(df['seq'] == 1) & (df['sxestcfd'] == 1), [c_name, 'sxrater']]\\\n",
    "                             .rename(columns={'sxrater': r_name}).dropna().values.T\n",
    "        elif r_name == 'sxrater_low':\n",
    "            r_val, c_val = df.loc[(df['seq'] == 1) & (df['sxestcfd'] == 2), [c_name, 'sxrater']]\\\n",
    "                             .rename(columns={'sxrater': r_name}).dropna().values.T\n",
    "        elif r_name == 'sxrater_nan':\n",
    "            r_val, c_val = df.loc[(df['seq'] == 1) & (df['sxestcfd'].isnull()), [c_name, 'sxrater']]\\\n",
    "                             .rename(columns={'sxrater': r_name}).dropna().values.T\n",
    "        else:\n",
    "            r_val, c_val = df.loc[df['seq'] == 1, [r_name, c_name]].dropna().values.T\n",
    "        corr[r, c], pvalues[r, c] = pearsonr(r_val, c_val)\n",
    "        # anno[r, c] = 'r: {:.3f}\\n(p: {:.1e})'.format(corr[r, c], p_value)\n",
    "        anno[r, c] = '{:.3f}'.format(corr[r, c])\n",
    "        \n",
    "cm = 1/2.54\n",
    "fig, ax = plt.subplots(1, figsize=(8.5*cm, 8.5*cm))\n",
    "sns.heatmap(corr, annot=anno, fmt=\"\", vmin=-1, xticklabels=cols, yticklabels=rows,\n",
    "            cbar_kws={'label': 'Pearson Correlation'},\n",
    "            annot_kws={\"fontsize\":8},\n",
    "            ax=ax,\n",
    "           )\n",
    "plt.xticks(fontsize=8)\n",
    "plt.yticks(fontsize=8)\n",
    "cax = plt.gcf().axes[-1]\n",
    "cax.tick_params(labelsize=8)\n",
    "plt.tight_layout()\n",
    "plt.savefig(join('figures', 'figure1.pdf'), dpi=300)"
   ]
  },
  {
   "cell_type": "markdown",
   "metadata": {},
   "source": [
    "<b> Create new feature whether AAO was estimated"
   ]
  },
  {
   "cell_type": "code",
   "execution_count": null,
   "metadata": {},
   "outputs": [],
   "source": [
    "# Is estimated when missing\n",
    "df['hddiagn_est'] = (df['hddiagn'].isnull()).astype(int)"
   ]
  },
  {
   "cell_type": "markdown",
   "metadata": {},
   "source": [
    "<b> Replace empty AAO with Estimated AAO "
   ]
  },
  {
   "cell_type": "code",
   "execution_count": null,
   "metadata": {},
   "outputs": [],
   "source": [
    "# Replace hddiagn with estimate\n",
    "df.loc[(df['hddiagn'].isnull()),'hddiagn'] = df.loc[(df['hddiagn'].isnull()),'sxrater']"
   ]
  },
  {
   "cell_type": "markdown",
   "metadata": {},
   "source": [
    "<b> Remove estimates"
   ]
  },
  {
   "cell_type": "code",
   "execution_count": null,
   "metadata": {},
   "outputs": [],
   "source": [
    "print('Still missing hddiagn patients:', df.groupby('subjid').head(1).hddiagn.isnull().sum())\n",
    "df = df.drop(df[df['hddiagn'].isnull()].index)\n",
    "df = df.drop(['sxrater'], axis=1)\n",
    "df.head()"
   ]
  },
  {
   "cell_type": "markdown",
   "metadata": {},
   "source": [
    "<b> Check if AAO is still missing"
   ]
  },
  {
   "cell_type": "code",
   "execution_count": null,
   "metadata": {},
   "outputs": [],
   "source": [
    "print('Still missing hddiagn patients:', df.groupby('subjid').head(1).hddiagn.isnull().sum())\n",
    "print('Premanifest missing:', \n",
    "      ((df.groupby('subjid').tail(1).hddiagn.isnull()) & (df.groupby('subjid').tail(1).hdcat == 2)).sum()\n",
    "     )\n",
    "print('Manifest missing:',\n",
    "      ((df.groupby('subjid').tail(1).hddiagn.isnull()) & (df.groupby('subjid').tail(1).hdcat == 3)).sum()\n",
    "     )"
   ]
  },
  {
   "cell_type": "code",
   "execution_count": null,
   "metadata": {},
   "outputs": [],
   "source": [
    "pieplot(df.copy())"
   ]
  },
  {
   "cell_type": "markdown",
   "metadata": {},
   "source": [
    "### Parent HD"
   ]
  },
  {
   "cell_type": "code",
   "execution_count": null,
   "metadata": {},
   "outputs": [],
   "source": [
    "first_visit = df.reset_index().groupby('subjid').first().reset_index()\n",
    "first_visit.index = first_visit['index']\n",
    "first_visit = first_visit.drop('index', axis=1)\n",
    "first_visit.head()"
   ]
  },
  {
   "cell_type": "code",
   "execution_count": null,
   "metadata": {},
   "outputs": [],
   "source": [
    "print('Both dad and mom hd missing:', ((first_visit['dadhd'].isnull()) & (first_visit['momhd'].isnull())).sum() )\n",
    "print('Either dad or mom hd missing:', ((first_visit['dadhd'].isnull()) ^ (first_visit['momhd'].isnull())).sum() )\n",
    "print('Dad and mom hd known:', (first_visit[['dadhd', 'momhd']].isnull().sum(axis=1) == 0).sum())\n",
    "print('Total patients', first_visit.shape[0])"
   ]
  },
  {
   "cell_type": "markdown",
   "metadata": {},
   "source": [
    "### Parentagesx"
   ]
  },
  {
   "cell_type": "code",
   "execution_count": null,
   "metadata": {},
   "outputs": [],
   "source": [
    "print('Both dad and mom agesx missing:', ((first_visit['dadagesx'].isnull()) & \\\n",
    "                                          (first_visit['momagesx'].isnull())).sum() )\n",
    "print('Either dad or mom agesx missing:', ((first_visit['dadagesx'].isnull()) ^ \\\n",
    "                                           (first_visit['momagesx'].isnull())).sum() )\n",
    "print('Both dad and mom agesx known:', (first_visit[['dadagesx', 'momagesx']].isnull().sum(axis=1) == 0).sum())"
   ]
  },
  {
   "cell_type": "code",
   "execution_count": null,
   "metadata": {},
   "outputs": [],
   "source": [
    "# All the rows where the momagesx and dadagesx are available\n",
    "print('Both dad and mom agesx known:', (first_visit[['dadagesx', 'momagesx']].isnull().sum(axis=1) == 0).sum())\n",
    "first_visit[(first_visit[['dadagesx', 'momagesx']].isnull().sum(axis=1) == 0)][['dadagesx', 'momagesx']]"
   ]
  },
  {
   "cell_type": "code",
   "execution_count": null,
   "metadata": {
    "scrolled": true
   },
   "outputs": [],
   "source": [
    "# Combine dadagesx and momagesx into parentagesx, where max is taken if both are available\n",
    "par = df[(df[['dadagesx', 'momagesx']].isnull().sum(axis=1) <= 1)][['dadagesx', 'momagesx']].astype(float)\\\n",
    "        .max(axis=1, skipna=True)\n",
    "\n",
    "df = df.drop(['dadagesx', 'momagesx'], axis=1)\n",
    "df.loc[par[~par.isnull()].index,'parentagesx'] = par.loc[~par.isnull()]"
   ]
  },
  {
   "cell_type": "code",
   "execution_count": null,
   "metadata": {},
   "outputs": [],
   "source": [
    "test = df.groupby('subjid').head(1)\n",
    "print('Still missing parent AAO:', ((test['parentagesx'].isnull()) & ((test['momhd'] == 1) | (test['dadhd'] == 1))).sum())\n",
    "print('Missing but parents had no AAO:', ((test['parentagesx'].isnull()) & ((test['momhd'] != 1) & (test['dadhd'] != 1))).sum())"
   ]
  },
  {
   "cell_type": "code",
   "execution_count": null,
   "metadata": {},
   "outputs": [],
   "source": [
    "pieplot(df.copy())"
   ]
  },
  {
   "cell_type": "markdown",
   "metadata": {},
   "source": [
    "# Transforming numerical values in manifest (from profile)\n",
    "(age - feature).replace(nan, 0)\n",
    "\n",
    "- hddiagn: Patient AAO --> years away from AAO\n",
    "- parentagesx: Parent AAO --> years away from parent AAO (0 if momhd & dadhd == 0, knn if momhd == 1 or dadhd== 1)\n",
    "\n",
    "- sxsubj: Symptomes first noted by participant (0 if sxsubjm==nan, knn if sxsubjm!=nan)\n",
    "- sxfam:  Symptomes first noted by family (0 if sxfamm==nan, knn if sxfamm!=nan)\n",
    "\n",
    "- ccmtrage: At what age did motor symptomes begin (0 if ccmtr!=1, knn if ccmtr==1)\n",
    "- ccdepage: At what age did the depression begin (0 if ccdep!=1, knn if ccdep==1)\n",
    "- ccirbage: At what age did the irritability begin (0 if ccirb!=1, knn if ccirb==1)\n",
    "- ccvabage: At what age did the violent or aggressive behaviour begin (0 if ccvab!=1, knn if ccvab==1)\n",
    "- ccaptage: At what age did the apathy begin (0 if ccapt!=1, knn if ccapt==1)\n",
    "- ccpobage: At what age did the perseverative obsessive behaviour begin (0 if ccpob!=1, knn if ccpob==1)\n",
    "- ccpsyage: At what age did the psychosis begin (0 if ccpsy!=1, knn if ccpsy==1)\n",
    "- cccogage: At what age did  cognitive impairment first start to have an impact on daily life (0 if cccog!=1, knn if cccog==1)\n",
    "- rtrddur:  Age at retirment (0 if emplnrsn!=2 (not retired), knn if emplnrsn==2)"
   ]
  },
  {
   "cell_type": "code",
   "execution_count": null,
   "metadata": {
    "scrolled": false
   },
   "outputs": [],
   "source": [
    "# Some nans caused by not retired, some nan caused by unknown (knn)\n",
    "cols = ['hddiagn', 'parentagesx', 'ccmtrage', 'sxsubj', 'sxfam', 'ccdepage', 'ccirbage', 'ccvabage', 'ccaptage',\n",
    "        'ccpobage', 'ccpsyage', 'cccogage', 'rtrddur'\n",
    "       ]"
   ]
  },
  {
   "cell_type": "code",
   "execution_count": null,
   "metadata": {
    "scrolled": true
   },
   "outputs": [],
   "source": [
    "plt.figure(figsize=(15,5))\n",
    "plt.boxplot(df[cols].dropna().values, labels=cols)\n",
    "pass"
   ]
  },
  {
   "cell_type": "markdown",
   "metadata": {},
   "source": [
    "<b> Formula"
   ]
  },
  {
   "cell_type": "code",
   "execution_count": null,
   "metadata": {},
   "outputs": [],
   "source": [
    "age_to_distance = lambda x: x+1 if x >= 0 else x"
   ]
  },
  {
   "cell_type": "markdown",
   "metadata": {},
   "source": [
    "#### hddiagn (AAO)"
   ]
  },
  {
   "cell_type": "code",
   "execution_count": null,
   "metadata": {},
   "outputs": [],
   "source": [
    "c = 'hddiagn'\n",
    "df.loc[:, c] = (df.loc[:, 'age'] - df.loc[:, c]).apply(age_to_distance)\n",
    "\n",
    "# Replace pre-manifest subjects AAO with 0 (no onset happened yet)\n",
    "pre_subj = df.groupby('subjid').tail(1).loc[df['hdcat']==2, 'subjid'].values\n",
    "df.loc[df['subjid'].isin(pre_subj),c] = df.loc[df['subjid'].isin(pre_subj), c].replace(np.nan, 0)"
   ]
  },
  {
   "cell_type": "markdown",
   "metadata": {},
   "source": [
    "#### parentagesx"
   ]
  },
  {
   "cell_type": "code",
   "execution_count": null,
   "metadata": {},
   "outputs": [],
   "source": [
    "print('No age to be estimated:', ((df['momhd']!=1) & (df['dadhd']!=1)).sum(), '/',\n",
    "      df['parentagesx'].isnull().sum())\n",
    "print('To be imputed:', (((df['momhd']==1) | (df['dadhd']==1)) & (df['parentagesx'].isnull()) ).sum(), '/',\n",
    "      df['parentagesx'].isnull().sum())\n",
    "print('Known ages:', (~df['parentagesx'].isnull()).sum(), '/', df.shape[0])\n",
    "\n",
    "# Transform parentagesx\n",
    "c = 'parentagesx'\n",
    "df.loc[:, c] = (df.loc[:, 'age'] - df.loc[:, c]).apply(age_to_distance)\n",
    "\n",
    "# Set parentagesx to 0 if no age can be estimated\n",
    "df.loc[((df['momhd']!=1) & (df['dadhd']!=1)), 'parentagesx'] = 0"
   ]
  },
  {
   "cell_type": "markdown",
   "metadata": {},
   "source": [
    "#### sxsubj"
   ]
  },
  {
   "cell_type": "code",
   "execution_count": null,
   "metadata": {},
   "outputs": [],
   "source": [
    "print('No age to be estimated:', ((df['sxsubjm'].isnull()) & (df['sxsubj'].isnull()) ).sum() )\n",
    "print('Knn to be estimated:', ( (~df['sxsubjm'].isnull()) & (df['sxsubj'].isnull()) ).sum())\n",
    "print('Known ages:', (~df['sxsubj'].isnull()).sum(), '/', df.shape[0])\n",
    "\n",
    "c = 'sxsubj'\n",
    "df.loc[:, c] = (df.loc[:, 'age'] - df.loc[:, c]).apply(age_to_distance)\n",
    "\n",
    "# Set sxsubj to 0 if no age can be estimated\n",
    "df.loc[((df['sxsubjm'].isnull()) & (df['sxsubj'].isnull())), 'sxsubj'] = 0\n",
    "\n",
    "print(df['sxsubj'].isnull().sum())"
   ]
  },
  {
   "cell_type": "markdown",
   "metadata": {},
   "source": [
    "#### sxfam"
   ]
  },
  {
   "cell_type": "code",
   "execution_count": null,
   "metadata": {},
   "outputs": [],
   "source": [
    "print('No age to be estimated:', ((df['sxfamm'].isnull()) & (df['sxfam'].isnull()) ).sum() )\n",
    "print('Knn to be estimated:', ( (~df['sxfamm'].isnull()) & (df['sxfam'].isnull()) ).sum())\n",
    "print('Known ages:', (~df['sxfam'].isnull()).sum(), '/', df.shape[0])\n",
    "\n",
    "c = 'sxfam'\n",
    "df.loc[:, c] = (df.loc[:, 'age'] - df.loc[:, c]).apply(age_to_distance)\n",
    "\n",
    "# Set sxfam to 0 if no age can be estimated\n",
    "df.loc[((df['sxfamm'].isnull()) & (df['sxfam'].isnull())), 'sxfam'] = 0\n",
    "\n",
    "print(df['sxfam'].isnull().sum())"
   ]
  },
  {
   "cell_type": "markdown",
   "metadata": {},
   "source": [
    "#### ccmtrage"
   ]
  },
  {
   "cell_type": "code",
   "execution_count": null,
   "metadata": {},
   "outputs": [],
   "source": [
    "number = 'ccmtrage'\n",
    "boolean = 'ccmtr'\n",
    "print('No age to be estimated:', ( (df[boolean]!=1) & (df[number].isnull()) ).sum())\n",
    "print('Knn to be estimated:', ( (df[boolean]==1) & (df[number].isnull()) ).sum())\n",
    "print('Known ages:', (~df[number].isnull()).sum(), '/', df.shape[0])\n",
    "\n",
    "df.loc[:, number] = (df.loc[:, 'age'] - df.loc[:, number]).apply(age_to_distance)\n",
    "\n",
    "# Set ccmtrage to 0 if no age can be estimated\n",
    "df.loc[(df[boolean]!=1) & (df[number].isnull()), number] = 0\n",
    "\n",
    "print(df[number].isnull().sum())"
   ]
  },
  {
   "cell_type": "markdown",
   "metadata": {},
   "source": [
    "#### ccdepage"
   ]
  },
  {
   "cell_type": "code",
   "execution_count": null,
   "metadata": {},
   "outputs": [],
   "source": [
    "number = 'ccdepage'\n",
    "boolean = 'ccdep'\n",
    "print('No age to be estimated:', ( (df[boolean]!=1) & (df[number].isnull()) ).sum())\n",
    "print('Knn to be estimated:', ( (df[boolean]==1) & (df[number].isnull()) ).sum())\n",
    "print('Known ages:', (~df[number].isnull()).sum(), '/', df.shape[0])\n",
    "\n",
    "df.loc[:, number] = (df.loc[:, 'age'] - df.loc[:, number]).apply(age_to_distance)\n",
    "\n",
    "# Set ccdepage to 0 if no age can be estimated\n",
    "df.loc[(df[boolean]!=1) & (df[number].isnull()), number] = 0\n",
    "\n",
    "print(df[number].isnull().sum())"
   ]
  },
  {
   "cell_type": "markdown",
   "metadata": {},
   "source": [
    "#### ccirbage"
   ]
  },
  {
   "cell_type": "code",
   "execution_count": null,
   "metadata": {},
   "outputs": [],
   "source": [
    "number = 'ccirbage'\n",
    "boolean = 'ccirb'\n",
    "print('No age to be estimated:', ( (df[boolean]!=1) & (df[number].isnull()) ).sum())\n",
    "print('Knn to be estimated:', ( (df[boolean]==1) & (df[number].isnull()) ).sum())\n",
    "print('Known ages:', (~df[number].isnull()).sum(), '/', df.shape[0])\n",
    "\n",
    "df.loc[:, number] = (df.loc[:, 'age'] - df.loc[:, number]).apply(age_to_distance)\n",
    "\n",
    "# Set cccogage to 0 if no age can be estimated\n",
    "df.loc[(df[boolean]!=1) & (df[number].isnull()), number] = 0\n",
    "\n",
    "print(df[number].isnull().sum())"
   ]
  },
  {
   "cell_type": "markdown",
   "metadata": {},
   "source": [
    "#### ccvabage"
   ]
  },
  {
   "cell_type": "code",
   "execution_count": null,
   "metadata": {},
   "outputs": [],
   "source": [
    "number = 'ccvabage'\n",
    "boolean = 'ccvab'\n",
    "print('No age to be estimated:', ( (df[boolean]!=1) & (df[number].isnull()) ).sum())\n",
    "print('Knn to be estimated:', ( (df[boolean]==1) & (df[number].isnull()) ).sum())\n",
    "print('Known ages:', (~df[number].isnull()).sum(), '/', df.shape[0])\n",
    "\n",
    "df.loc[:, number] = (df.loc[:, 'age'] - df.loc[:, number]).apply(age_to_distance)\n",
    "\n",
    "# Set ccvabage to 0 if no age can be estimated\n",
    "df.loc[(df[boolean]!=1) & (df[number].isnull()), number] = 0\n",
    "\n",
    "print(df[number].isnull().sum())"
   ]
  },
  {
   "cell_type": "markdown",
   "metadata": {},
   "source": [
    "#### ccaptage"
   ]
  },
  {
   "cell_type": "code",
   "execution_count": null,
   "metadata": {},
   "outputs": [],
   "source": [
    "number = 'ccaptage'\n",
    "boolean = 'ccapt'\n",
    "print('No age to be estimated:', ( (df[boolean]!=1) & (df[number].isnull()) ).sum())\n",
    "print('Knn to be estimated:', ( (df[boolean]==1) & (df[number].isnull()) ).sum())\n",
    "print('Known ages:', (~df[number].isnull()).sum(), '/', df.shape[0])\n",
    "\n",
    "df.loc[:, number] = (df.loc[:, 'age'] - df.loc[:, number]).apply(age_to_distance)\n",
    "\n",
    "# Set ccaptage to 0 if no age can be estimated\n",
    "df.loc[(df[boolean]!=1) & (df[number].isnull()), number] = 0\n",
    "\n",
    "print(df[number].isnull().sum())"
   ]
  },
  {
   "cell_type": "markdown",
   "metadata": {},
   "source": [
    "#### ccpobage"
   ]
  },
  {
   "cell_type": "code",
   "execution_count": null,
   "metadata": {},
   "outputs": [],
   "source": [
    "number = 'ccpobage'\n",
    "boolean = 'ccpob'\n",
    "print('No age to be estimated:', ( (df[boolean]!=1) & (df[number].isnull()) ).sum())\n",
    "print('Knn to be estimated:', ( (df[boolean]==1) & (df[number].isnull()) ).sum())\n",
    "print('Known ages:', (~df[number].isnull()).sum(), '/', df.shape[0])\n",
    "\n",
    "# transform ccpobage\n",
    "df.loc[:, number] = (df.loc[:, 'age'] - df.loc[:, number]).apply(age_to_distance)\n",
    "\n",
    "# Set ccpobage to 0 if no age can be estimated\n",
    "df.loc[(df[boolean]!=1) & (df[number].isnull()), number] = 0\n",
    "\n",
    "print(df[number].isnull().sum())"
   ]
  },
  {
   "cell_type": "markdown",
   "metadata": {},
   "source": [
    "#### ccpsyage"
   ]
  },
  {
   "cell_type": "code",
   "execution_count": null,
   "metadata": {},
   "outputs": [],
   "source": [
    "number = 'ccpsyage'\n",
    "boolean = 'ccpsy'\n",
    "print('No age to be estimated:', ( (df[boolean]!=1) & (df[number].isnull()) ).sum())\n",
    "print('Knn to be estimated:', ( (df[boolean]==1) & (df[number].isnull()) ).sum())\n",
    "print('Known ages:', (~df[number].isnull()).sum(), '/', df.shape[0])\n",
    "\n",
    "# transform ccpsyage\n",
    "df.loc[:, number] = (df.loc[:, 'age'] - df.loc[:, number]).apply(age_to_distance)\n",
    "\n",
    "# Set ccpsyage to 0 if no age can be estimated\n",
    "df.loc[(df[boolean]!=1) & (df[number].isnull()), number] = 0\n",
    "\n",
    "print(df[number].isnull().sum())"
   ]
  },
  {
   "cell_type": "markdown",
   "metadata": {},
   "source": [
    "#### cccogage"
   ]
  },
  {
   "cell_type": "code",
   "execution_count": null,
   "metadata": {},
   "outputs": [],
   "source": [
    "number = 'cccogage'\n",
    "boolean = 'cccog'\n",
    "print('No age to be estimated:', ( (df[boolean]!=1) & (df[number].isnull()) ).sum())\n",
    "print('Knn to be estimated:', ( (df[boolean]==1) & (df[number].isnull()) ).sum())\n",
    "print('Known ages:', (~df[number].isnull()).sum(), '/', df.shape[0])\n",
    "\n",
    "# transform cccogage\n",
    "df.loc[:, number] = (df.loc[:, 'age'] - df.loc[:, number]).apply(age_to_distance)\n",
    "\n",
    "# Set cccogage to 0 if no age can be estimated\n",
    "df.loc[(df[boolean]!=1) & (df[number].isnull()), number] = 0\n",
    "\n",
    "print(df[number].isnull().sum())"
   ]
  },
  {
   "cell_type": "code",
   "execution_count": null,
   "metadata": {
    "scrolled": true
   },
   "outputs": [],
   "source": [
    "plt.figure(figsize=(15,5))\n",
    "plt.boxplot(df[cols].replace(0, np.nan).dropna().values, labels=cols)\n",
    "pass"
   ]
  },
  {
   "cell_type": "code",
   "execution_count": null,
   "metadata": {},
   "outputs": [],
   "source": [
    "pieplot(df.copy())"
   ]
  },
  {
   "cell_type": "markdown",
   "metadata": {},
   "source": [
    "### Weight, Height and BMI"
   ]
  },
  {
   "cell_type": "markdown",
   "metadata": {},
   "source": [
    "<b> Missing height, weight and BMI"
   ]
  },
  {
   "cell_type": "code",
   "execution_count": null,
   "metadata": {},
   "outputs": [],
   "source": [
    "# Fix height, weight and bmi\n",
    "df[['height', 'weight', 'bmi']].isnull().sum()"
   ]
  },
  {
   "cell_type": "code",
   "execution_count": null,
   "metadata": {},
   "outputs": [],
   "source": [
    "print('Missing weight, height or bmi:',\n",
    "      (( (df['height'].isnull()) | (df['weight'].isnull()) )  | ( df['bmi'].isnull() )).sum() )\n",
    "\n",
    "print('Missing weight and Height', ( (df['height'].isnull()) &  ( df['weight'].isnull() )).sum())\n",
    "\n",
    "print('Missing only weight:',\n",
    "      ( (~df['height'].isnull()) &  ( df['weight'].isnull() )).sum())\n",
    "print('Missing only height:',\n",
    "      ( (~df['weight'].isnull()) &  ( df['height'].isnull() )).sum())\n",
    "\n",
    "print('Missing only bmi:',\n",
    "      (( (~df['height'].isnull()) & (~df['weight'].isnull()) ) & ( df['bmi'].isnull() )).sum())"
   ]
  },
  {
   "cell_type": "markdown",
   "metadata": {},
   "source": [
    "<b> Plot difference of a feature between visits </b>"
   ]
  },
  {
   "cell_type": "code",
   "execution_count": null,
   "metadata": {},
   "outputs": [],
   "source": [
    "def dif_between_visits(df_in, label):\n",
    "    # Change of label between visits\n",
    "    stats = []\n",
    "    df_in = df_in[~df_in[label].isnull()].sort_values(['subjid', 'seq']).copy()\n",
    "    prev_subj = ''\n",
    "\n",
    "    for i, row in df_in.iterrows():\n",
    "        if row['subjid'] != prev_subj:\n",
    "            prev = row[label]\n",
    "        if (row[label] - prev) < -30 or (row[label] - prev > 30):\n",
    "            pass\n",
    "        stats.append(row[label] - prev)\n",
    "        prev = row[label]\n",
    "        prev_subj = row['subjid']\n",
    "    \n",
    "    plt.xlabel(label + ' differences between visits')\n",
    "    plt.ylabel('density')\n",
    "    sns.distplot(stats)"
   ]
  },
  {
   "cell_type": "markdown",
   "metadata": {},
   "source": [
    "<b> Function to fill in height/weight"
   ]
  },
  {
   "cell_type": "code",
   "execution_count": null,
   "metadata": {},
   "outputs": [],
   "source": [
    "def replace_with_latest(df_in, col, t=np.inf):\n",
    "    \"\"\"\n",
    "    :param df_in: The dataframe to work on\n",
    "    :param col: The column in df_in to alter\n",
    "    :param t: The maximum difference allowed between visits to use as replacement\n",
    "    \n",
    "    This function does a backward pass for each subject.\n",
    "    It checks if the latest value is not greater than the given threshold (t) or missing.\n",
    "    If this checks out use the latest value (x) to replace the current value\n",
    "    Else the lastest value (x) is the current value\n",
    "    \n",
    "    After the backward pass the process is repeated again using a forward pass\n",
    "    \"\"\"\n",
    "    subj = ''\n",
    "    x = np.nan\n",
    "    for i, row in tqdm(df_in[::-1].iterrows()):\n",
    "        # New subject found\n",
    "        if df_in.loc[i,'subjid'] != subj or np.isnan(x):\n",
    "            # current subject\n",
    "            subj = row['subjid']\n",
    "            # Current value\n",
    "            x = row[col]\n",
    "        else:\n",
    "            # Check if the latest value is not greater than the given threshold (t) or missing.\n",
    "            if abs(x - row[col]) > t or np.isnan(row[col]):\n",
    "                df_in.loc[i,col] = x\n",
    "            # Latest value (x) is current value\n",
    "            else:\n",
    "                x = row[col]\n",
    "    subj = ''\n",
    "    x = np.nan\n",
    "    for i, row in tqdm(df_in.iterrows()):\n",
    "        # New subject found\n",
    "        if df_in.loc[i,'subjid'] != subj or np.isnan(x):\n",
    "            # current subject\n",
    "            subj = row['subjid']\n",
    "            # Current value\n",
    "            x = row[col]\n",
    "        else:\n",
    "            # Check if the latest value is not greater than the given threshold (t) or missing.\n",
    "            if abs(x - row[col]) > t or np.isnan(row[col]):\n",
    "                df_in.loc[i,col] = x\n",
    "            # Latest value (x) is current value\n",
    "            else:\n",
    "                x = row[col]\n",
    "    return df_in"
   ]
  },
  {
   "cell_type": "markdown",
   "metadata": {},
   "source": [
    "# Weight"
   ]
  },
  {
   "cell_type": "code",
   "execution_count": null,
   "metadata": {},
   "outputs": [],
   "source": [
    "sns.boxplot(df['weight'].dropna())"
   ]
  },
  {
   "cell_type": "code",
   "execution_count": null,
   "metadata": {},
   "outputs": [],
   "source": [
    "# Change of weight between visits\n",
    "dif_between_visits(df, 'weight')"
   ]
  },
  {
   "cell_type": "markdown",
   "metadata": {},
   "source": [
    "<b> Missing"
   ]
  },
  {
   "cell_type": "code",
   "execution_count": null,
   "metadata": {},
   "outputs": [],
   "source": [
    "df['weight'].isnull().sum()"
   ]
  },
  {
   "cell_type": "markdown",
   "metadata": {},
   "source": [
    "<b> Replace (t=np.inf, i.e. only replace nans)"
   ]
  },
  {
   "cell_type": "code",
   "execution_count": null,
   "metadata": {},
   "outputs": [],
   "source": [
    "df = replace_with_latest(df.copy(), 'weight')"
   ]
  },
  {
   "cell_type": "markdown",
   "metadata": {},
   "source": [
    "<b> New missing"
   ]
  },
  {
   "cell_type": "code",
   "execution_count": null,
   "metadata": {},
   "outputs": [],
   "source": [
    "df['weight'].isnull().sum()"
   ]
  },
  {
   "cell_type": "code",
   "execution_count": null,
   "metadata": {},
   "outputs": [],
   "source": [
    "sns.boxplot(df['weight'].dropna())"
   ]
  },
  {
   "cell_type": "code",
   "execution_count": null,
   "metadata": {},
   "outputs": [],
   "source": [
    "# Change of weight between visits\n",
    "dif_between_visits(df, 'weight')"
   ]
  },
  {
   "cell_type": "markdown",
   "metadata": {},
   "source": [
    "# height"
   ]
  },
  {
   "cell_type": "code",
   "execution_count": null,
   "metadata": {},
   "outputs": [],
   "source": [
    "sns.boxplot(df['height'].dropna())"
   ]
  },
  {
   "cell_type": "code",
   "execution_count": null,
   "metadata": {},
   "outputs": [],
   "source": [
    "# Change of height between visits per subject\n",
    "dif_between_visits(df, 'height')"
   ]
  },
  {
   "cell_type": "markdown",
   "metadata": {},
   "source": [
    "<b> Example"
   ]
  },
  {
   "cell_type": "code",
   "execution_count": null,
   "metadata": {},
   "outputs": [],
   "source": [
    "df[df['subjid'] == 'R715006254'][['subjid', 'seq','height']]"
   ]
  },
  {
   "cell_type": "markdown",
   "metadata": {},
   "source": [
    "<b> Missing"
   ]
  },
  {
   "cell_type": "code",
   "execution_count": null,
   "metadata": {},
   "outputs": [],
   "source": [
    "df['height'].isnull().sum()"
   ]
  },
  {
   "cell_type": "markdown",
   "metadata": {},
   "source": [
    "<b> Replace height (t=1cm, i.e. height cant change more than 1 cm between visits)"
   ]
  },
  {
   "cell_type": "code",
   "execution_count": null,
   "metadata": {},
   "outputs": [],
   "source": [
    "df = replace_with_latest(df.copy(), 'height', 1)"
   ]
  },
  {
   "cell_type": "markdown",
   "metadata": {},
   "source": [
    "<b> New missing"
   ]
  },
  {
   "cell_type": "code",
   "execution_count": null,
   "metadata": {},
   "outputs": [],
   "source": [
    "df['height'].isnull().sum()"
   ]
  },
  {
   "cell_type": "markdown",
   "metadata": {},
   "source": [
    "<b> Same example"
   ]
  },
  {
   "cell_type": "code",
   "execution_count": null,
   "metadata": {},
   "outputs": [],
   "source": [
    "df[df['subjid'] == 'R715006254'][['subjid', 'seq','height']]"
   ]
  },
  {
   "cell_type": "code",
   "execution_count": null,
   "metadata": {},
   "outputs": [],
   "source": [
    "dif_between_visits(df, 'height')"
   ]
  },
  {
   "cell_type": "markdown",
   "metadata": {},
   "source": [
    "# Recalculate BMI"
   ]
  },
  {
   "cell_type": "code",
   "execution_count": null,
   "metadata": {},
   "outputs": [],
   "source": [
    "df['bmi'] = (df['weight'] / (df['height'] / 100)**2).round(1)\n",
    "df['bmi'].isnull().sum()"
   ]
  },
  {
   "cell_type": "code",
   "execution_count": null,
   "metadata": {},
   "outputs": [],
   "source": [
    "mis_patients = df[df['bmi'].isnull()]['subjid'].unique()\n",
    "print(len(mis_patients))"
   ]
  },
  {
   "cell_type": "markdown",
   "metadata": {},
   "source": [
    "<b> Drop patients with missing BMI"
   ]
  },
  {
   "cell_type": "code",
   "execution_count": null,
   "metadata": {},
   "outputs": [],
   "source": [
    "print(df.shape)\n",
    "df = df[~df['subjid'].isin(mis_patients)]\n",
    "print(df.shape)"
   ]
  },
  {
   "cell_type": "code",
   "execution_count": null,
   "metadata": {},
   "outputs": [],
   "source": [
    "pieplot(df)"
   ]
  },
  {
   "cell_type": "code",
   "execution_count": null,
   "metadata": {},
   "outputs": [],
   "source": [
    "df[['weight', 'height', 'bmi']].boxplot()"
   ]
  },
  {
   "cell_type": "markdown",
   "metadata": {},
   "source": [
    "#### Dummies in profile"
   ]
  },
  {
   "cell_type": "code",
   "execution_count": null,
   "metadata": {},
   "outputs": [],
   "source": [
    "df['sex'] = df['sex'].apply(lambda val: 0 if val == 'm' else 1)"
   ]
  },
  {
   "cell_type": "code",
   "execution_count": null,
   "metadata": {
    "scrolled": true
   },
   "outputs": [],
   "source": [
    "# Skip sex, caghigh, caglow, fhx\n",
    "cat_cols = ['region', 'race', 'handed', 'hxsid', 'momhd', 'dadhd', 'ccmtr', 'sxsubjm', 'sxfamm', 'sxraterm', 'ccpsyfh',\n",
    "            'ccdep', 'ccirb', 'ccvab', 'ccapt', 'ccpob', 'ccpsy', 'cccog', 'sxestcfd', 'sxreas', 'sxgs', 'sxest'\n",
    "           ]\n",
    "\n",
    "dummies = pd.get_dummies(df[cat_cols].astype('category'), dtype=int)\n",
    "dummies.head()\n",
    "df = df.drop(cat_cols, axis=1).join(dummies)\n",
    "df.head()"
   ]
  },
  {
   "cell_type": "code",
   "execution_count": null,
   "metadata": {},
   "outputs": [],
   "source": [
    "pieplot(df.copy())"
   ]
  },
  {
   "cell_type": "markdown",
   "metadata": {},
   "source": [
    "# Infer variables from previous visit"
   ]
  },
  {
   "cell_type": "markdown",
   "metadata": {},
   "source": [
    "### Section Medical History (MHx)"
   ]
  },
  {
   "cell_type": "code",
   "execution_count": null,
   "metadata": {},
   "outputs": [],
   "source": [
    "cols = ['hxalcab', 'hxtobab', 'hxtobcpd', 'hxtobyos', 'hxpacky', 'hxdrugab', 'hxmar', 'hxmarfrq', 'hxher',\n",
    "        'hxherfrq', 'hxcoc', 'hxcocfrq', 'hxclb', 'hxclbfrq', 'hxamp', 'hxampfrq', 'hxrit', 'hxritfrq', 'hxhal',\n",
    "        'hxhalfrq', 'hxinh', 'hxinhfrq', 'hxopi', 'hxopifrq', 'hxpak', 'hxpakfrq', 'hxbar', 'hxbarfrq', 'hxtrq',\n",
    "        'hxtrqfrq'\n",
    "       ]\n",
    "df.head(5)[cols]"
   ]
  },
  {
   "cell_type": "code",
   "execution_count": null,
   "metadata": {},
   "outputs": [],
   "source": [
    "print('All values after baseline are missing:', df.loc[(df['seq'] > 1)][cols].isnull().all().all())"
   ]
  },
  {
   "cell_type": "code",
   "execution_count": null,
   "metadata": {},
   "outputs": [],
   "source": [
    "df.loc[df['seq'] == 1, ['subjid'] + cols].head()"
   ]
  },
  {
   "cell_type": "markdown",
   "metadata": {},
   "source": [
    "#### Infer mhx features from first visit"
   ]
  },
  {
   "cell_type": "code",
   "execution_count": null,
   "metadata": {},
   "outputs": [],
   "source": [
    "df = df.drop(cols, axis=1).merge(df.loc[df['seq'] == 1, ['subjid'] + cols], on='subjid', how='right')\n",
    "df[['subjid', 'seq'] + cols].head()"
   ]
  },
  {
   "cell_type": "markdown",
   "metadata": {},
   "source": [
    "#### Set 'hxtobcpd', 'hxtobyos', 'hxpacky' to 0 if hxtobab is unknown or 0"
   ]
  },
  {
   "cell_type": "code",
   "execution_count": null,
   "metadata": {},
   "outputs": [],
   "source": [
    "print(df.loc[(df['hxtobab']) != 1, ['hxtobcpd', 'hxtobyos', 'hxpacky']].isnull().all().all())\n",
    "df.loc[(df['hxtobab']) != 1, ['hxtobcpd', 'hxtobyos', 'hxpacky']] = 0\n",
    "print(df[['hxtobcpd', 'hxtobyos', 'hxpacky']].isnull().sum())\n",
    "df.loc[(df['hxtobab']) != 1, ['hxtobcpd', 'hxtobyos', 'hxpacky']].head()"
   ]
  },
  {
   "cell_type": "markdown",
   "metadata": {},
   "source": [
    "#### Change specific drug abuse 0 if drugab == 0"
   ]
  },
  {
   "cell_type": "code",
   "execution_count": null,
   "metadata": {},
   "outputs": [],
   "source": [
    "cols = ['hxmar', 'hxher', 'hxcoc', 'hxclb', 'hxamp','hxrit', 'hxhal', 'hxinh', 'hxopi', 'hxpak', 'hxbar', 'hxtrq']\n",
    "\n",
    "df.loc[df['hxdrugab']==0,cols] = 0\n",
    "\n",
    "df.loc[df['hxdrugab']==0,cols].head()\n",
    "\n",
    "print(df[cols].isnull().sum())"
   ]
  },
  {
   "cell_type": "code",
   "execution_count": null,
   "metadata": {},
   "outputs": [],
   "source": [
    "cols = ['hxmarfrq', 'hxherfrq', 'hxcocfrq', 'hxclbfrq', 'hxampfrq', 'hxritfrq', 'hxhalfrq', 'hxinhfrq', 'hxopifrq',\n",
    "        'hxpakfrq', 'hxbarfrq', 'hxtrqfrq']\n",
    "\n",
    "df.loc[((df['hxdrugab']==0) | (df['hxdrugab'].isnull()) ),cols] = 0\n",
    "\n",
    "df.loc[((df['hxdrugab']==0) | (df['hxdrugab'].isnull()) ),cols].head()\n",
    "\n",
    "print(df[cols].isnull().sum())"
   ]
  },
  {
   "cell_type": "markdown",
   "metadata": {},
   "source": [
    "#### Change category features to dummy variables"
   ]
  },
  {
   "cell_type": "code",
   "execution_count": null,
   "metadata": {},
   "outputs": [],
   "source": [
    "cat_cols = ['hxalcab', 'hxtobab', 'hxdrugab', 'hxmar', 'hxher',  'hxcoc', 'hxclb', 'hxamp', 'hxrit', 'hxhal', 'hxinh',\n",
    "            'hxopi',  'hxpak',  'hxbar', 'hxtrq']\n",
    "\n",
    "others = ['hxmarfrq', 'hxherfrq', 'hxcocfrq', 'hxclbfrq', 'hxampfrq', 'hxritfrq', 'hxhalfrq', 'hxinhfrq', 'hxopifrq',\n",
    "          'hxpakfrq', 'hxbarfrq', 'hxtrqfrq']\n",
    "\n",
    "dummies = pd.get_dummies(df[cat_cols].astype('category'), dtype=int)\n",
    "dummies.head()\n",
    "df = df.drop(cat_cols, axis=1).join(dummies)\n",
    "df.head()"
   ]
  },
  {
   "cell_type": "code",
   "execution_count": null,
   "metadata": {},
   "outputs": [],
   "source": [
    "pieplot(df.copy())"
   ]
  },
  {
   "cell_type": "markdown",
   "metadata": {},
   "source": [
    "### Section General Variable Items I (Baseline & Follow-Up)"
   ]
  },
  {
   "cell_type": "code",
   "execution_count": null,
   "metadata": {},
   "outputs": [],
   "source": [
    "# Also includes, height, weight and bmi, which are handled seperatly\n",
    "cols = ['alcab', 'alcunits', 'tobab', 'tobcpd', 'tobyos', 'packy', 'cafab', 'cafpd', 'drugab', 'mar', 'marfrq',\n",
    "        'her', 'herfrq', 'coc', 'cocfrq', 'clb', 'clbfrq', 'amp', 'ampfrq', 'rit', 'ritfrq', 'hal', 'halfrq',\n",
    "        'inh', 'inhfrq', 'opi', 'opifrq', 'pak', 'pakfrq', 'bar', 'barfrq', 'trq', 'trqfrq'\n",
    "       ]\n",
    "\n",
    "df[['subjid', 'seq'] + cols].head(5)"
   ]
  },
  {
   "cell_type": "code",
   "execution_count": null,
   "metadata": {},
   "outputs": [],
   "source": [
    "# Set cafab to 1 if cafpd != nan and cafab == 0 or nan\n",
    "df.loc[(~df['cafpd'].isnull()), 'cafab'] = 1"
   ]
  },
  {
   "cell_type": "markdown",
   "metadata": {},
   "source": [
    "#### alcunits are 0 when alcab is zero or nan, use Knn if tobab == 1"
   ]
  },
  {
   "cell_type": "code",
   "execution_count": null,
   "metadata": {},
   "outputs": [],
   "source": [
    "df.loc[df['seq']==1,'alcab'].isnull().sum()"
   ]
  },
  {
   "cell_type": "code",
   "execution_count": null,
   "metadata": {},
   "outputs": [],
   "source": [
    "df.loc[((df['alcab'] == 0) | (df['alcab'].isnull())) & (df['alcunits'].isnull()), 'alcunits'] = 0"
   ]
  },
  {
   "cell_type": "code",
   "execution_count": null,
   "metadata": {},
   "outputs": [],
   "source": [
    "print(df['alcunits'].isnull().sum())"
   ]
  },
  {
   "cell_type": "markdown",
   "metadata": {},
   "source": [
    "#### tobcpd, tobyos, packy are 0 when tobabuse is zero or nan, use ML if tobab == 1"
   ]
  },
  {
   "cell_type": "code",
   "execution_count": null,
   "metadata": {},
   "outputs": [],
   "source": [
    "# Tobab is 0 or nan and tobcpd is null, tobcp = 0\n",
    "df.loc[((df['tobab'] == 0) | (df['tobab'].isnull())) & (df['tobcpd'].isnull()), 'tobcpd'] = 0\n",
    "# Tobab is 0 or nan and tobcpd is null, tobyos = 0\n",
    "df.loc[((df['tobab'] == 0) | (df['tobab'].isnull())) & (df['tobyos'].isnull()), 'tobyos'] = 0\n",
    "# Tobab is 0 or nan and tobcpd is null, packy = 0\n",
    "df.loc[((df['tobab'] == 0) | (df['tobab'].isnull())) & (df['packy'].isnull()), 'packy'] = 0"
   ]
  },
  {
   "cell_type": "code",
   "execution_count": null,
   "metadata": {},
   "outputs": [],
   "source": [
    "print(df['tobcpd'].isnull().sum())\n",
    "print(df['tobyos'].isnull().sum())\n",
    "print(df['packy'].isnull().sum())"
   ]
  },
  {
   "cell_type": "markdown",
   "metadata": {},
   "source": [
    "#### If does not abuse caffeine then number of coffees is always zero\n"
   ]
  },
  {
   "cell_type": "code",
   "execution_count": null,
   "metadata": {},
   "outputs": [],
   "source": [
    "df.loc[df['cafab']==0,'cafpd'] = 0"
   ]
  },
  {
   "cell_type": "markdown",
   "metadata": {},
   "source": [
    "#### Set drugs to 0 if drugab = 0"
   ]
  },
  {
   "cell_type": "code",
   "execution_count": null,
   "metadata": {},
   "outputs": [],
   "source": [
    "d_cols = ['mar', 'her', 'coc', 'clb', 'amp', 'rit', 'hal', 'inh', 'opi', 'pak', 'bar', 'trq']\n",
    "print('All drugs are nan if drugab = 0:', df.loc[df['drugab'] == 0, d_cols].isnull().all().all())\n",
    "\n",
    "# Set drugs to 0 if drugab = 0\n",
    "df.loc[df['drugab'] == 0, d_cols] = 0\n",
    "print('All drugs are 0 if drugab = 0:', (df.loc[df['drugab'] == 0, d_cols] == 0).all().all())"
   ]
  },
  {
   "cell_type": "code",
   "execution_count": null,
   "metadata": {},
   "outputs": [],
   "source": [
    "cols = ['marfrq', 'herfrq', 'cocfrq', 'clbfrq', 'ampfrq', 'ritfrq', 'halfrq', 'inhfrq', 'opifrq',\n",
    "        'pakfrq', 'barfrq', 'trqfrq']\n",
    "\n",
    "df.loc[((df['drugab']==0) | (df['drugab'].isnull()) ),cols] = 0\n",
    "print(df[cols].isnull().sum())"
   ]
  },
  {
   "cell_type": "markdown",
   "metadata": {},
   "source": [
    "#### make dummies of categorical features"
   ]
  },
  {
   "cell_type": "code",
   "execution_count": null,
   "metadata": {},
   "outputs": [],
   "source": [
    "# dummy rest\n",
    "cat_cols =  ['alcab', 'tobab', 'cafab', 'cafpd', 'drugab', 'mar', 'her', 'coc', 'clb', 'amp', 'rit', 'hal', 'inh',\n",
    "             'opi', 'pak', 'bar', 'trq']\n",
    "\n",
    "others = ['marfrq', 'herfrq', 'cocfrq', 'clbfrq', 'ampfrq', 'ritfrq', 'halfrq',\n",
    "          'inhfrq', 'opifrq', 'pakfrq', 'barfrq', 'trqfrq']\n",
    "\n",
    "df = df.drop(['opifrq', 'barfrq', 'ritfrq', 'trqfrq', 'herfrq', 'inhfrq', 'pakfrq'], axis=1)\n",
    "\n",
    "dummies = pd.get_dummies(df[cat_cols].astype('category'), dtype=int)\n",
    "dummies.head()\n",
    "df = df.drop(cat_cols, axis=1).join(dummies)\n",
    "df.head()"
   ]
  },
  {
   "cell_type": "code",
   "execution_count": null,
   "metadata": {
    "scrolled": true
   },
   "outputs": [],
   "source": [
    "pieplot(df)"
   ]
  },
  {
   "cell_type": "markdown",
   "metadata": {},
   "source": [
    "### Section General Variable Items II (Baseline & Follow-up)"
   ]
  },
  {
   "cell_type": "code",
   "execution_count": null,
   "metadata": {},
   "outputs": [],
   "source": [
    "cols = ['updsc', 'hdcat', 'maristat', 'res', 'isced', 'jobclas', 'jobpaid',\n",
    "        'rdcwk', 'rdcwkd', 'rdcwkhw', # Baseline\n",
    "        'emplnrsn', 'emplnrd', 'ssdb', 'rtrnwk', 'rtrddur']\n",
    "df[['subjid', 'seq'] + cols].head(5)"
   ]
  },
  {
   "cell_type": "markdown",
   "metadata": {},
   "source": [
    "##### One instance says it is not updated but it is"
   ]
  },
  {
   "cell_type": "code",
   "execution_count": null,
   "metadata": {},
   "outputs": [],
   "source": [
    "df[df['updsc'] == 0].loc[(~df[df['updsc'] == 0][cols[2:]].isnull()).any(1)][['subjid', 'seq']]"
   ]
  },
  {
   "cell_type": "code",
   "execution_count": null,
   "metadata": {},
   "outputs": [],
   "source": [
    "df[df['subjid'] == 'R012716790'][cols]"
   ]
  },
  {
   "cell_type": "code",
   "execution_count": null,
   "metadata": {},
   "outputs": [],
   "source": [
    "df.loc[(df['subjid'] == 'R012716790') & (df['seq'] == 2), 'updsc'] = 1\n",
    "df[df['subjid'] == 'R012716790'][cols]"
   ]
  },
  {
   "cell_type": "markdown",
   "metadata": {},
   "source": [
    "##### Some updsc are null while all values are 0"
   ]
  },
  {
   "cell_type": "code",
   "execution_count": null,
   "metadata": {},
   "outputs": [],
   "source": [
    "cond = (df['updsc'].isnull()) & (df['seq'] != 1)\n",
    "df[cond][['subjid', 'seq'] + cols]"
   ]
  },
  {
   "cell_type": "code",
   "execution_count": null,
   "metadata": {},
   "outputs": [],
   "source": [
    "# Set to updsc to 0 if values miss\n",
    "df.loc[(df['updsc'].isnull()) & (df['seq'] != 1),'updsc'] = 0\n",
    "df[cond][cols]"
   ]
  },
  {
   "cell_type": "markdown",
   "metadata": {},
   "source": [
    "#### All first visits are None"
   ]
  },
  {
   "cell_type": "code",
   "execution_count": null,
   "metadata": {},
   "outputs": [],
   "source": [
    "print('Updsc only misses on first visit:', df.loc[df['seq']==1,'updsc'].isnull().sum() == df['updsc'].isnull().sum())\n",
    "print('If no update all features are nan:', df[df['updsc'] == 0][cols[2:]].isnull().all().all())\n",
    "print('If visit updates (updsc) is true, at least one feature is not nan:', (~df[df['updsc'] == 1][cols[2:]].isnull()).any().any())"
   ]
  },
  {
   "cell_type": "markdown",
   "metadata": {},
   "source": [
    "#### 3 cases someone is not employed but does get paid"
   ]
  },
  {
   "cell_type": "code",
   "execution_count": null,
   "metadata": {},
   "outputs": [],
   "source": [
    "df.loc[(df['jobclas'] == 4) & (~df['jobpaid'].isnull())][['subjid', 'seq'] + cols]"
   ]
  },
  {
   "cell_type": "code",
   "execution_count": null,
   "metadata": {},
   "outputs": [],
   "source": [
    "# Set to nan\n",
    "df.loc[(df['jobclas'] == 4) & (~df['jobpaid'].isnull()), ['jobpaid']] = np.nan\n",
    "df.loc[(df['jobclas'] == 4), 'jobpaid'].isnull().all()"
   ]
  },
  {
   "cell_type": "markdown",
   "metadata": {},
   "source": [
    "#### Replace current values using latest visit (forward fill)"
   ]
  },
  {
   "cell_type": "code",
   "execution_count": null,
   "metadata": {},
   "outputs": [],
   "source": [
    "cols = ['maristat', 'res', 'isced', 'jobclas', 'jobpaid', \n",
    "        'rdcwk', 'rdcwkd', 'rdcwkhw',\n",
    "        'emplnrsn', 'emplnrd', 'ssdb', 'rtrnwk', 'rtrddur']\n",
    "df[['subjid', 'seq', 'updsc', 'hdcat'] + cols].head(10)"
   ]
  },
  {
   "cell_type": "code",
   "execution_count": null,
   "metadata": {},
   "outputs": [],
   "source": [
    "df['updsc'].fillna(1, inplace=True)"
   ]
  },
  {
   "cell_type": "code",
   "execution_count": null,
   "metadata": {},
   "outputs": [],
   "source": [
    "df.loc[:, cols] = df[['subjid'] + cols].groupby('subjid').fillna(method='ffill')"
   ]
  },
  {
   "cell_type": "code",
   "execution_count": null,
   "metadata": {
    "scrolled": true
   },
   "outputs": [],
   "source": [
    "df[['subjid', 'seq', 'updsc', 'hdcat'] + cols].head(10)"
   ]
  },
  {
   "cell_type": "markdown",
   "metadata": {},
   "source": [
    "### rtrddur"
   ]
  },
  {
   "cell_type": "code",
   "execution_count": null,
   "metadata": {},
   "outputs": [],
   "source": [
    "# Transform rtrddur to a retirement age\n",
    "df.loc[df['emplnrsn'] != 2, 'rtrddur'] = np.nan"
   ]
  },
  {
   "cell_type": "code",
   "execution_count": null,
   "metadata": {},
   "outputs": [],
   "source": [
    "# Keep largest rtrddur per patient\n",
    "df['rtrddur'] = df.groupby('subjid')['rtrddur'].transform('max')"
   ]
  },
  {
   "cell_type": "code",
   "execution_count": null,
   "metadata": {},
   "outputs": [],
   "source": [
    "print('Max retirement ages per patient:', (df.groupby('subjid').rtrddur.nunique()).max())"
   ]
  },
  {
   "cell_type": "code",
   "execution_count": null,
   "metadata": {},
   "outputs": [],
   "source": [
    "retired_subj = df[df['emplnrsn']==2].subjid.values\n",
    "\n",
    "print('Missing while retired:', df[df['emplnrsn']==2].groupby('subjid').rtrddur.max().isnull().sum(),\n",
    "      '/', df[df['emplnrsn']==2].groupby('subjid').rtrddur.max().shape[0]\n",
    "     )\n",
    "\n",
    "print('Missing while not retired:', df[(~df['subjid'].isin(retired_subj))].groupby('subjid').rtrddur.max().isnull().sum(), \n",
    "      '/', df[(~df['subjid'].isin(retired_subj))].groupby('subjid').rtrddur.max().shape[0])\n",
    "\n",
    "print(df.subjid.nunique())"
   ]
  },
  {
   "cell_type": "code",
   "execution_count": null,
   "metadata": {},
   "outputs": [],
   "source": [
    "# Set to duration\n",
    "df.loc[(df['subjid'].isin(retired_subj)), 'rtrddur'] = (df.loc[(df['subjid'].isin(retired_subj)), 'age'] - \n",
    "                                                        df.loc[(df['subjid'].isin(retired_subj)), 'rtrddur']).\\\n",
    "                                                        apply(lambda x: x+1 if x >= 0 else x)\n",
    "\n",
    "# Set others to 0\n",
    "df.loc[(~df['subjid'].isin(retired_subj)), 'rtrddur'] = 0"
   ]
  },
  {
   "cell_type": "code",
   "execution_count": null,
   "metadata": {},
   "outputs": [],
   "source": [
    "# Original retirement age stats\n",
    "(df.age - df.rtrddur).describe()"
   ]
  },
  {
   "cell_type": "code",
   "execution_count": null,
   "metadata": {
    "scrolled": true
   },
   "outputs": [],
   "source": [
    "# Retirement duration\n",
    "plt.boxplot(df.groupby('subjid').rtrddur.max().dropna())"
   ]
  },
  {
   "cell_type": "markdown",
   "metadata": {},
   "source": [
    "#### Drop rdcwkd and rdcwkhw (cant logically impute)"
   ]
  },
  {
   "cell_type": "code",
   "execution_count": null,
   "metadata": {},
   "outputs": [],
   "source": [
    "df = df.drop(['rdcwkd', 'rdcwkhw'], axis=1)"
   ]
  },
  {
   "cell_type": "markdown",
   "metadata": {},
   "source": [
    "#### Change category features dummies"
   ]
  },
  {
   "cell_type": "code",
   "execution_count": null,
   "metadata": {},
   "outputs": [],
   "source": [
    "cat_cols = ['maristat', 'res', 'isced', 'jobclas', 'jobpaid', \n",
    "            'rdcwk', 'emplnrsn', 'emplnrd', 'ssdb', 'rtrnwk']\n",
    "\n",
    "dummies = pd.get_dummies(df[cat_cols].astype('category'), dtype=int)\n",
    "df = df.drop(cat_cols, axis=1).join(dummies)\n",
    "df.head()"
   ]
  },
  {
   "cell_type": "code",
   "execution_count": null,
   "metadata": {},
   "outputs": [],
   "source": [
    "pieplot(df)"
   ]
  },
  {
   "cell_type": "markdown",
   "metadata": {},
   "source": [
    "# Motscore"
   ]
  },
  {
   "cell_type": "code",
   "execution_count": null,
   "metadata": {},
   "outputs": [],
   "source": [
    "df = df.drop('miscore', axis=1)"
   ]
  },
  {
   "cell_type": "code",
   "execution_count": null,
   "metadata": {},
   "outputs": [],
   "source": [
    "pieplot(df)"
   ]
  },
  {
   "cell_type": "markdown",
   "metadata": {},
   "source": [
    "# Fascore"
   ]
  },
  {
   "cell_type": "code",
   "execution_count": null,
   "metadata": {},
   "outputs": [],
   "source": [
    "df = df.drop('fiscore', axis=1)"
   ]
  },
  {
   "cell_type": "code",
   "execution_count": null,
   "metadata": {},
   "outputs": [],
   "source": [
    "pieplot(df)"
   ]
  },
  {
   "cell_type": "markdown",
   "metadata": {},
   "source": [
    "# Form UHDRS Total Functional Capacity (TFC)"
   ]
  },
  {
   "cell_type": "code",
   "execution_count": null,
   "metadata": {},
   "outputs": [],
   "source": [
    "# All cols are categorical\n",
    "\n",
    "cols = ['occupatn', 'finances', 'chores', 'adl', 'carelevl']\n",
    "\n",
    "print(df[cols].isnull().any(1).sum(), 'visits where any of the features miss')\n",
    "print('All features have at least one missing:', df[cols].isnull().any().all())"
   ]
  },
  {
   "cell_type": "code",
   "execution_count": null,
   "metadata": {},
   "outputs": [],
   "source": [
    "print(df['tfcscore'].isnull().sum(), 'visits miss the tfcscore')\n",
    "print('When tfcscore misses then all features are missing:',\n",
    "      df.loc[(df['tfcscore'].isnull()), cols].isnull().all().all())\n",
    "print('When tfcscore misses at least', df.loc[(df['tfcscore'].isnull()), cols].isnull().sum(1).min(),\n",
    "      'feature has to miss')\n",
    "print('When tfcscore misses a max of', df.loc[(df['tfcscore'].isnull()), cols].isnull().sum(1).max(),\n",
    "      'features are missing')"
   ]
  },
  {
   "cell_type": "markdown",
   "metadata": {},
   "source": [
    "### Cognitive Assessments (Cognitive)"
   ]
  },
  {
   "cell_type": "code",
   "execution_count": null,
   "metadata": {},
   "outputs": [],
   "source": [
    "cols = ['gen1', 'gen2', 'gen3', 'gen4', 'gen5', 'gen6', 'sdmt', 'sdmt1', 'sdmt2', 'sdmtnd', 'verfct', 'verfctd',\n",
    "        'verfct5', 'verfct6', 'verfct7', 'verfctnd', 'scnt', 'scnt1', 'scnt2', 'scnt3','scntnd', 'swrt', 'swrt1',\n",
    "        'swrt2', 'swrt3', 'swrtnd', 'sit', 'sit1', 'sit2', 'sit3', 'trl', 'trla1', 'trla2', 'trla3', 'trlb1',\n",
    "        'trlb2', 'trlb3', 'verflt', 'verflt05', 'verflt06', 'verflt07'\n",
    "       ]\n",
    "\n",
    "print(df[cols].isnull().any(1).sum(), 'visits where any of the features miss')\n",
    "print('All features have at least one missing:', df[cols].isnull().any().all())"
   ]
  },
  {
   "cell_type": "markdown",
   "metadata": {},
   "source": [
    "#### gen1 is nan, but assocciated values are filled in"
   ]
  },
  {
   "cell_type": "code",
   "execution_count": null,
   "metadata": {},
   "outputs": [],
   "source": [
    "df[(df['gen1'].isnull()) & (~df['gen2'].isnull())][cols[:6]]"
   ]
  },
  {
   "cell_type": "code",
   "execution_count": null,
   "metadata": {},
   "outputs": [],
   "source": [
    "df.loc[(df['gen1'].isnull()) & (~df['gen2'].isnull()), 'gen1'] = 1"
   ]
  },
  {
   "cell_type": "markdown",
   "metadata": {},
   "source": [
    "#### sdmt == 0 but assocciated values are filled in"
   ]
  },
  {
   "cell_type": "code",
   "execution_count": null,
   "metadata": {},
   "outputs": [],
   "source": [
    "df.loc[(df['sdmt']==0) & \n",
    "       ( (~df['sdmt1'].isnull()) | (~df['sdmt2'].isnull()) )][['sdmt', 'sdmt1', 'sdmt2', 'sdmtnd']]"
   ]
  },
  {
   "cell_type": "code",
   "execution_count": null,
   "metadata": {},
   "outputs": [],
   "source": [
    "df.loc[(df['sdmt']==0) & \n",
    "       ( (~df['sdmt1'].isnull()) | (~df['sdmt2'].isnull()) ), 'sdmt'] = 1"
   ]
  },
  {
   "cell_type": "markdown",
   "metadata": {},
   "source": [
    "#### verfct == 0  but assocciated values are filled in"
   ]
  },
  {
   "cell_type": "code",
   "execution_count": null,
   "metadata": {},
   "outputs": [],
   "source": [
    "df.loc[(df['verfct']==0) & (~df['verfctd'].isnull()), ['verfct', 'verfctd']]"
   ]
  },
  {
   "cell_type": "code",
   "execution_count": null,
   "metadata": {},
   "outputs": [],
   "source": [
    "df.loc[(df['verfct']==0) & (~df['verfctd'].isnull()), 'verfct'] = 1"
   ]
  },
  {
   "cell_type": "markdown",
   "metadata": {},
   "source": [
    "#### Drop"
   ]
  },
  {
   "cell_type": "code",
   "execution_count": null,
   "metadata": {},
   "outputs": [],
   "source": [
    "df = df.drop(['gen1', 'gen2', 'gen3', 'gen4', 'gen5', 'gen6'], axis=1)"
   ]
  },
  {
   "cell_type": "markdown",
   "metadata": {},
   "source": [
    "#### Make dummies"
   ]
  },
  {
   "cell_type": "code",
   "execution_count": null,
   "metadata": {},
   "outputs": [],
   "source": [
    "cat_cols = ['sdmt', 'sdmtnd', 'verfct', 'verfctd', 'verfctnd', 'scnt', 'scntnd', 'swrt', 'swrtnd', 'sit',\n",
    "            'trl', 'verflt']\n",
    "\n",
    "\n",
    "dummies = pd.get_dummies(df[cat_cols].astype('category'), dtype=int)\n",
    "dummies.head()\n",
    "df = df.drop(cat_cols, axis=1).join(dummies)\n",
    "df.head()"
   ]
  },
  {
   "cell_type": "code",
   "execution_count": null,
   "metadata": {},
   "outputs": [],
   "source": [
    "pieplot(df.copy())"
   ]
  },
  {
   "cell_type": "markdown",
   "metadata": {},
   "source": [
    "### Mini Mental State Examination (MMSE)"
   ]
  },
  {
   "cell_type": "code",
   "execution_count": null,
   "metadata": {},
   "outputs": [],
   "source": [
    "# >>> Knn <<< or remove feature or remove rows\n",
    "df['mmsetotal'].isnull().sum()"
   ]
  },
  {
   "cell_type": "code",
   "execution_count": null,
   "metadata": {},
   "outputs": [],
   "source": [
    "df['mmsetotal'].isnull().sum() / df.shape[0]"
   ]
  },
  {
   "cell_type": "code",
   "execution_count": null,
   "metadata": {},
   "outputs": [],
   "source": [
    "pieplot(df)"
   ]
  },
  {
   "cell_type": "markdown",
   "metadata": {},
   "source": [
    "### Physiotherapy Outcomes Measures (Physiotherapy)"
   ]
  },
  {
   "cell_type": "code",
   "execution_count": null,
   "metadata": {},
   "outputs": [],
   "source": [
    "cols = ['tug', 'tug1', 'scst', 'scst1']\n",
    "\n",
    "print(df[cols].isnull().any(1).sum(), 'visits where any of the features miss')\n",
    "print('All features have at least one missing:', df[cols].isnull().any().all())"
   ]
  },
  {
   "cell_type": "code",
   "execution_count": null,
   "metadata": {},
   "outputs": [],
   "source": [
    "df.tug1.isnull().sum() / df.shape[0]"
   ]
  },
  {
   "cell_type": "code",
   "execution_count": null,
   "metadata": {},
   "outputs": [],
   "source": [
    "df.scst1.isnull().sum() / df.shape[0]"
   ]
  },
  {
   "cell_type": "markdown",
   "metadata": {},
   "source": [
    "#### One scst is 0, however the time is filled in as zero"
   ]
  },
  {
   "cell_type": "code",
   "execution_count": null,
   "metadata": {},
   "outputs": [],
   "source": [
    "df.loc[ (df['scst'] == 0) & (~df['scst1'].isnull()), ['scst', 'scst1'] ]"
   ]
  },
  {
   "cell_type": "code",
   "execution_count": null,
   "metadata": {},
   "outputs": [],
   "source": [
    "df.loc[ (df['scst'] == 0) & (~df['scst1'].isnull()), ['scst1'] ] = np.nan"
   ]
  },
  {
   "cell_type": "markdown",
   "metadata": {},
   "source": [
    "#### Make scst and tug dummies"
   ]
  },
  {
   "cell_type": "code",
   "execution_count": null,
   "metadata": {},
   "outputs": [],
   "source": [
    "cat_cols = ['tug', 'scst']\n",
    "\n",
    "dummies = pd.get_dummies(df[cat_cols].astype('category'), dtype=int)\n",
    "dummies.head()\n",
    "df = df.drop(cat_cols, axis=1).join(dummies)\n",
    "df.head()"
   ]
  },
  {
   "cell_type": "code",
   "execution_count": null,
   "metadata": {},
   "outputs": [],
   "source": [
    "pieplot(df)"
   ]
  },
  {
   "cell_type": "markdown",
   "metadata": {},
   "source": [
    "### Problem Behaviours Assessment (PBA‐s)"
   ]
  },
  {
   "cell_type": "code",
   "execution_count": null,
   "metadata": {},
   "outputs": [],
   "source": [
    "cols = ['depscore', 'irascore', 'psyscore', 'aptscore', 'exfscore', 'pbas1sv', 'pbas1fr', 'pbas1wo', 'pbas2sv',\n",
    "        'pbas2fr', 'pbas2wo', 'pbas3sv', 'pbas3fr', 'pbas3wo', 'pbas4sv', 'pbas4fr', 'pbas4wo', 'pbas5sv',\n",
    "        'pbas5fr', 'pbas5wo', 'pbas6sv', 'pbas6fr', 'pbas6wo', 'pbas7sv', 'pbas7fr', 'pbas7wo', 'pbas8sv',\n",
    "        'pbas8fr', 'pbas8wo', 'pbas9sv', 'pbas9fr', 'pbas9wo', 'pbas10sv', 'pbas10sm__1', 'pbas10sm__2',\n",
    "        'pbas10sm__3', 'pbas10sm__4', 'pbas10sm__5', 'pbas10fr', 'pbas10wo', 'pbas11sv', 'pbas11fr', 'pbas11wo',\n",
    "        'pbainfo', 'pbahshd'\n",
    "       ]\n",
    "\n",
    "print(df[cols].isnull().any(1).sum(), 'visits where any of the features miss')\n",
    "print('All features have at least one missing:', df[cols].isnull().any().all())"
   ]
  },
  {
   "cell_type": "code",
   "execution_count": null,
   "metadata": {},
   "outputs": [],
   "source": [
    "print((~df['exfscore'].isnull()).sum())\n",
    "(df['exfscore'] == ((df['pbas7sv'] * df['pbas7fr']) + (df['pbas8sv'] * df['pbas8fr']) +\n",
    "                    (df['pbas11sv'] * df['pbas11fr']))).sum()"
   ]
  },
  {
   "cell_type": "code",
   "execution_count": null,
   "metadata": {},
   "outputs": [],
   "source": [
    "cols = ['depscore', 'irascore', 'psyscore', 'aptscore', 'exfscore', 'pbas1sv', 'pbas1fr',  'pbas2sv',\n",
    "        'pbas2fr',  'pbas3sv', 'pbas3fr',  'pbas4sv', 'pbas4fr','pbas5sv',\n",
    "        'pbas5fr', 'pbas6sv', 'pbas6fr', 'pbas7sv', 'pbas7fr', 'pbas8sv',\n",
    "        'pbas8fr', 'pbas9sv', 'pbas9fr', 'pbas10sv', 'pbas10fr', 'pbas11sv', 'pbas11fr']\n",
    "\n",
    "plt.figure(figsize=(15,5))\n",
    "sns.heatmap(df[cols].corr().iloc[:5,5:], annot=True, square=True)\n",
    "plt.xticks(rotation=45)\n",
    "pass"
   ]
  },
  {
   "cell_type": "markdown",
   "metadata": {},
   "source": [
    "#### Set pbas10sm to 0 if missing"
   ]
  },
  {
   "cell_type": "code",
   "execution_count": null,
   "metadata": {},
   "outputs": [],
   "source": [
    "df.loc[:,['pbas10sm__1', 'pbas10sm__2', 'pbas10sm__3', 'pbas10sm__4', 'pbas10sm__5']].isnull().sum()"
   ]
  },
  {
   "cell_type": "code",
   "execution_count": null,
   "metadata": {},
   "outputs": [],
   "source": [
    "# Replace nan with 0's\n",
    "df.loc[:,['pbas10sm__1', 'pbas10sm__2', 'pbas10sm__3', 'pbas10sm__4', 'pbas10sm__5']\n",
    "      ] = df[['pbas10sm__1', 'pbas10sm__2', 'pbas10sm__3', 'pbas10sm__4', 'pbas10sm__5']].replace(np.nan, 0)\n",
    "\n",
    "df.loc[:,['pbas10sm__1', 'pbas10sm__2', 'pbas10sm__3', 'pbas10sm__4', 'pbas10sm__5']].head()"
   ]
  },
  {
   "cell_type": "markdown",
   "metadata": {},
   "source": [
    "#### Worst"
   ]
  },
  {
   "cell_type": "code",
   "execution_count": null,
   "metadata": {},
   "outputs": [],
   "source": [
    "cols = ['pbas1wo', 'pbas2wo', 'pbas3wo', 'pbas4wo', 'pbas5wo', 'pbas6wo', 'pbas7wo', 'pbas8wo', 'pbas9wo',\n",
    "        'pbas10wo', 'pbas11wo']\n",
    "\n",
    "print( df.loc[df['seq']==1,cols].isnull().sum().sum() )\n",
    "print( df.loc[df['seq']==2,cols].isnull().sum().sum() )\n",
    "print( df.loc[df['seq']==3,cols].isnull().sum().sum() )\n",
    "print( df.loc[df['seq']==4,cols].isnull().sum().sum() )\n",
    "print( df.loc[df['seq']==5,cols].isnull().sum().sum() )"
   ]
  },
  {
   "cell_type": "code",
   "execution_count": null,
   "metadata": {},
   "outputs": [],
   "source": [
    "df = df.drop(['pbas1wo', 'pbas2wo', 'pbas3wo', 'pbas4wo', 'pbas5wo', 'pbas6wo',\n",
    "              'pbas7wo', 'pbas8wo', 'pbas9wo', 'pbas10wo', 'pbas11wo'], axis=1)"
   ]
  },
  {
   "cell_type": "markdown",
   "metadata": {},
   "source": [
    "#### Set dummies"
   ]
  },
  {
   "cell_type": "code",
   "execution_count": null,
   "metadata": {},
   "outputs": [],
   "source": [
    "cat_cols = ['pbas1sv', 'pbas1fr', 'pbas1wo', 'pbas2sv', 'pbas2fr', 'pbas2wo', 'pbas3sv', 'pbas3fr', 'pbas3wo',\n",
    "            'pbas4sv', 'pbas4fr', 'pbas4wo', 'pbas5sv', 'pbas5fr', 'pbas5wo', 'pbas6sv', 'pbas6fr', 'pbas6wo',\n",
    "            'pbas7sv', 'pbas7fr', 'pbas7wo', 'pbas8sv', 'pbas8fr', 'pbas8wo', 'pbas9sv', 'pbas9fr', 'pbas9wo',\n",
    "            'pbas10sv', 'pbas10fr', 'pbas10sm__1', 'pbas10sm__2', 'pbas10sm__3', 'pbas10sm__4', 'pbas10sm__5',\n",
    "            'pbas10wo', 'pbas11sv', 'pbas11fr', 'pbas11wo', 'pbainfo', 'pbahshd'\n",
    "       ]\n",
    "\n",
    "others = ['pbainfo', 'pbahshd']\n",
    "\n",
    "dummies = pd.get_dummies(df[others].astype('category'), dtype=int)\n",
    "dummies.head()\n",
    "df = df.drop(others, axis=1).join(dummies)\n",
    "df.head()"
   ]
  },
  {
   "cell_type": "code",
   "execution_count": null,
   "metadata": {},
   "outputs": [],
   "source": [
    "pieplot(df)"
   ]
  },
  {
   "cell_type": "markdown",
   "metadata": {},
   "source": [
    "### Short Form Health Survey – 12v2 (SF‐12)"
   ]
  },
  {
   "cell_type": "code",
   "execution_count": null,
   "metadata": {},
   "outputs": [],
   "source": [
    "cols = ['scoring', 'pf', 'rp', 'bp', 'gh', 'vt', 'sf', 're', 'mh', 'pcs', 'mcs']\n",
    "\n",
    "print(df[cols].isnull().any(1).sum(), 'visits where any of the features miss')\n",
    "print('All features have at least one missing:', df[cols].isnull().any().all())"
   ]
  },
  {
   "cell_type": "code",
   "execution_count": null,
   "metadata": {},
   "outputs": [],
   "source": [
    "score = 'scoring'\n",
    "cond = (df[cols[1:]].isnull().all(1)) # All missing\n",
    "print('Length condition:', cond.sum())\n",
    "print('No missing', score, ':', df[score].isnull().sum())\n",
    "print('Condition accossiated with', score, ':', df.loc[cond, score].isnull().sum(), '/', cond.sum())\n",
    "df.loc[cond][(~df.loc[cond,score].isnull())][cols].head()"
   ]
  },
  {
   "cell_type": "markdown",
   "metadata": {},
   "source": [
    "#### Dummies"
   ]
  },
  {
   "cell_type": "code",
   "execution_count": null,
   "metadata": {},
   "outputs": [],
   "source": [
    "cat_cols = ['scoring']\n",
    "\n",
    "dummies = pd.get_dummies(df[cat_cols].astype('category'), dtype=int)\n",
    "dummies.head()\n",
    "df = df.drop(cat_cols, axis=1).join(dummies)"
   ]
  },
  {
   "cell_type": "code",
   "execution_count": null,
   "metadata": {
    "scrolled": true
   },
   "outputs": [],
   "source": [
    "pieplot(df)"
   ]
  },
  {
   "cell_type": "markdown",
   "metadata": {},
   "source": [
    "### Hospital Anxiety and Depression Scale Snaith Irritability Scale (HADS‐SIS)"
   ]
  },
  {
   "cell_type": "code",
   "execution_count": null,
   "metadata": {},
   "outputs": [],
   "source": [
    "# associated with barfrq / trqfrq (drop/knn)\n",
    "cols = ['anxscore', 'hads_depscore', 'irrscore', 'outscore', 'inwscore']\n",
    "\n",
    "print(df[cols].isnull().any(1).sum(), 'visits where any of the features miss')\n",
    "print('All features have at least one missing:', df[cols].isnull().any().all())"
   ]
  },
  {
   "cell_type": "code",
   "execution_count": null,
   "metadata": {},
   "outputs": [],
   "source": [
    "pieplot(df)"
   ]
  },
  {
   "cell_type": "markdown",
   "metadata": {},
   "source": [
    "### Work Productivity and Activity Impairment‐Specific Health Problem Questionnaire (WPAI‐SHP)"
   ]
  },
  {
   "cell_type": "code",
   "execution_count": null,
   "metadata": {},
   "outputs": [],
   "source": [
    "# Many missing, drop all, maybe keep wpairscr4 (Knn)\n",
    "cols = ['wpaiscr1', 'wpaiscr2', 'wpaiscr3', 'wpaiscr4']\n",
    "\n",
    "print(df[cols].isnull().any(1).sum(), 'visits where any of the features miss')\n",
    "print('All features have at least one missing:', df[cols].isnull().any().all())"
   ]
  },
  {
   "cell_type": "code",
   "execution_count": null,
   "metadata": {},
   "outputs": [],
   "source": [
    "# keep wpairscr4 (Knn)\n",
    "df = df.drop(['wpaiscr1', 'wpaiscr2', 'wpaiscr3', 'wpaiscr4'], axis=1)"
   ]
  },
  {
   "cell_type": "code",
   "execution_count": null,
   "metadata": {},
   "outputs": [],
   "source": [
    "pieplot(df)"
   ]
  },
  {
   "cell_type": "markdown",
   "metadata": {},
   "source": [
    "### C‐SSRS (Baseline / Follow up)"
   ]
  },
  {
   "cell_type": "code",
   "execution_count": null,
   "metadata": {},
   "outputs": [],
   "source": [
    "# baseline does not include sbh7\n",
    "# Follow up does not include 'attmpt1dy', 'attmpt11', 'attmpt3dy', 'attmpt31', 'attmpt32'\n",
    "# Drop 'attmpt1dy', 'attmpt11', 'attmpt12', 'attmpt2dy', 'attmpt21', 'attmpt22', 'attmpt3dy', 'attmpt31', 'attmpt32'\n",
    "\n",
    "cols = ['sid1', 'sid2', 'sid3', 'sid4', 'sid5', 'int1', 'int2', 'int3', 'int4', 'int5', 'int6', 'sbh1', 'sbh1n',\n",
    "        'sbh2', 'sbh3', 'sbh3n', 'sbh4', 'sbh4n', 'sbh5', 'sbh6', 'sbh7'\n",
    "       ]\n",
    "\n",
    "print(df[cols].isnull().any(1).sum(), 'visits where any of the features miss')\n",
    "print('All features have at least one missing:', df[cols].isnull().any().all())"
   ]
  },
  {
   "cell_type": "markdown",
   "metadata": {},
   "source": [
    "#### Set sbh1n to 0 if sbh1 != 1"
   ]
  },
  {
   "cell_type": "code",
   "execution_count": null,
   "metadata": {},
   "outputs": [],
   "source": [
    "df.loc[(df['sbh1']!=1) & (df['sbh1n'].isnull()),'sbh1n'] = 0"
   ]
  },
  {
   "cell_type": "markdown",
   "metadata": {},
   "source": [
    "#### Set sbh3n to 0 if sbh3 != 1"
   ]
  },
  {
   "cell_type": "code",
   "execution_count": null,
   "metadata": {},
   "outputs": [],
   "source": [
    "df.loc[(df['sbh3']!=1) & (df['sbh3n'].isnull()),'sbh3n'] = 0"
   ]
  },
  {
   "cell_type": "markdown",
   "metadata": {},
   "source": [
    "#### Set sbh4n to 0 if sbh4 != 1"
   ]
  },
  {
   "cell_type": "code",
   "execution_count": null,
   "metadata": {},
   "outputs": [],
   "source": [
    "df.loc[(df['sbh4']!=1) & (df['sbh4n'].isnull()),'sbh4n'] = 0"
   ]
  },
  {
   "cell_type": "markdown",
   "metadata": {},
   "source": [
    "#### Dropping useless columns"
   ]
  },
  {
   "cell_type": "code",
   "execution_count": null,
   "metadata": {},
   "outputs": [],
   "source": [
    "df = df.drop(['attmpt11', 'attmpt12', 'attmpt21', 'attmpt22', 'attmpt3dy', 'attmpt31',\n",
    "              'attmpt32'], axis=1) # 'attmpt1dy','attmpt2dy',"
   ]
  },
  {
   "cell_type": "markdown",
   "metadata": {},
   "source": [
    "#### Make categorical cols"
   ]
  },
  {
   "cell_type": "code",
   "execution_count": null,
   "metadata": {},
   "outputs": [],
   "source": [
    "cat_cols = ['sid1', 'sid2', 'sid3', 'sid4', 'sid5', 'int1', 'int2', 'int3', 'int4', 'int5', 'int6', 'sbh1',\n",
    "            'sbh2', 'sbh3', 'sbh4', 'sbh5', 'sbh6', 'sbh7']\n",
    "\n",
    "dummies = pd.get_dummies(df[cat_cols].astype('category'), dtype=int)\n",
    "dummies.head()\n",
    "df = df.drop(cat_cols, axis=1).join(dummies)\n",
    "df.head()"
   ]
  },
  {
   "cell_type": "code",
   "execution_count": null,
   "metadata": {},
   "outputs": [],
   "source": [
    "df.shape"
   ]
  },
  {
   "cell_type": "code",
   "execution_count": null,
   "metadata": {},
   "outputs": [],
   "source": [
    "pieplot(df)"
   ]
  },
  {
   "cell_type": "markdown",
   "metadata": {},
   "source": [
    "# Capscore"
   ]
  },
  {
   "cell_type": "code",
   "execution_count": null,
   "metadata": {},
   "outputs": [],
   "source": [
    "L = 30\n",
    "K = 6.27\n",
    "df['capscore'] = df['age'] * (df['caghigh'] - L) / K\n",
    "plt.boxplot(df['capscore'])"
   ]
  },
  {
   "cell_type": "markdown",
   "metadata": {},
   "source": [
    "# Missing feature"
   ]
  },
  {
   "cell_type": "code",
   "execution_count": null,
   "metadata": {},
   "outputs": [],
   "source": [
    "print(df.loc[:,df.isnull().sum() > 0].shape)\n",
    "print(df.loc[:,df.isnull().sum() > 0].columns)"
   ]
  },
  {
   "cell_type": "markdown",
   "metadata": {},
   "source": [
    "# Missing"
   ]
  },
  {
   "cell_type": "code",
   "execution_count": null,
   "metadata": {},
   "outputs": [],
   "source": [
    "df['subjid'].nunique()"
   ]
  },
  {
   "cell_type": "code",
   "execution_count": null,
   "metadata": {},
   "outputs": [],
   "source": [
    "print('Columns with nan values:', df.isnull().any().sum())"
   ]
  },
  {
   "cell_type": "code",
   "execution_count": null,
   "metadata": {},
   "outputs": [],
   "source": [
    "print(df.isnull().sum().replace(0, np.nan).dropna().sort_values() / df.shape[0])"
   ]
  },
  {
   "cell_type": "markdown",
   "metadata": {},
   "source": [
    "# Save filtered Dataset"
   ]
  },
  {
   "cell_type": "code",
   "execution_count": null,
   "metadata": {},
   "outputs": [],
   "source": [
    "df.to_csv(join('data', 'filtered_pre_and_manifest.csv'), index=False)"
   ]
  },
  {
   "cell_type": "markdown",
   "metadata": {},
   "source": [
    " "
   ]
  }
 ],
 "metadata": {
  "kernelspec": {
   "display_name": "Python 3 (ipykernel)",
   "language": "python",
   "name": "python3"
  },
  "language_info": {
   "codemirror_mode": {
    "name": "ipython",
    "version": 3
   },
   "file_extension": ".py",
   "mimetype": "text/x-python",
   "name": "python",
   "nbconvert_exporter": "python",
   "pygments_lexer": "ipython3",
   "version": "3.9.6"
  }
 },
 "nbformat": 4,
 "nbformat_minor": 4
}
