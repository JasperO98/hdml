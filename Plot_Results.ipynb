{
 "cells": [
  {
   "cell_type": "markdown",
   "id": "b9e92fa7",
   "metadata": {},
   "source": [
    "# Imports"
   ]
  },
  {
   "cell_type": "code",
   "execution_count": null,
   "id": "65e43746",
   "metadata": {},
   "outputs": [],
   "source": [
    "import os\n",
    "\n",
    "import pandas as pd\n",
    "import numpy as np\n",
    "\n",
    "import matplotlib.pyplot as plt\n",
    "import seaborn as sns\n",
    "\n",
    "# Cm for figures\n",
    "cm = 1/2.54"
   ]
  },
  {
   "cell_type": "markdown",
   "id": "7760e9c5",
   "metadata": {},
   "source": [
    "# Load Data"
   ]
  },
  {
   "cell_type": "code",
   "execution_count": null,
   "id": "2578c946",
   "metadata": {},
   "outputs": [],
   "source": [
    "df = pd.read_csv(os.path.join('data', 'pre_and_manifest.csv'))\n",
    "df_filt = pd.read_csv(os.path.join('data', 'filtered_pre_and_manifest.csv'))\n",
    "df_imp = pd.read_csv(os.path.join('data', 'imputed_pre_and_manifest.csv'))"
   ]
  },
  {
   "cell_type": "markdown",
   "id": "af0cc045",
   "metadata": {},
   "source": [
    "# Dropped variables missing %"
   ]
  },
  {
   "cell_type": "code",
   "execution_count": null,
   "id": "6a68b67c",
   "metadata": {},
   "outputs": [],
   "source": [
    "missing_post = (df.isnull().sum() / df.shape[0]).sort_values(ascending=False)\n",
    "missing_post[(~df.columns.isin(df_filt.columns))].reset_index()\\\n",
    "                                                 .rename(columns={'index': 'variable', 0: 'missing (%)'})\\\n",
    "                                                 .to_csv(os.path.join('supplementary_material', 'dropped_variables.csv'),\n",
    "                                                         index=False, float_format='%.3f')"
   ]
  },
  {
   "cell_type": "markdown",
   "id": "1d95a721",
   "metadata": {},
   "source": [
    "# Imputation"
   ]
  },
  {
   "cell_type": "markdown",
   "id": "b85c62d1",
   "metadata": {},
   "source": [
    "<b> Find best models"
   ]
  },
  {
   "cell_type": "code",
   "execution_count": null,
   "id": "379532fc",
   "metadata": {},
   "outputs": [],
   "source": [
    "def best_models(scores):\n",
    "    \"\"\"\n",
    "    :param scores: Performance of the imputation models\n",
    "    \n",
    "    Calculate the best models based on the mean r2/f1 score of the folds per feature\n",
    "    \"\"\"\n",
    "    \n",
    "    # Mean score per variable and model\n",
    "    means = scores.groupby([\"variable\", \"model\"]).mean().reset_index()\n",
    "    # Models per variable with highest mean score\n",
    "    models = means.loc[means.groupby('variable').score.idxmax(), :]\n",
    "    \n",
    "    # Get values from all the best scores\n",
    "    rows = []\n",
    "    for i, row in enumerate(models.sort_values('score', ascending=False)[['variable', 'model']].values):\n",
    "        for r in scores[(scores[['variable', 'model']].isin(row)).all(1)].values:\n",
    "            rows.append(r)\n",
    "    \n",
    "    out = pd.DataFrame(rows,\n",
    "                       columns=['variable', 'missing', 'model', 'problem', 'fold', 'score', 'mae', 'rmse'],\n",
    "                      )\n",
    "    out = out.astype({'variable': str, 'missing': int, 'model': str, 'problem': str, 'fold': int,\n",
    "                      'score': float, 'mae': float, 'rmse': float})\n",
    "    return out"
   ]
  },
  {
   "cell_type": "code",
   "execution_count": null,
   "id": "aa1a5fd6",
   "metadata": {},
   "outputs": [],
   "source": [
    "train_results1 = pd.read_csv(os.path.join('tables', 'impute_train_1.csv'))\n",
    "test_results1 = pd.read_csv(os.path.join('tables', 'impute_test_1.csv'))\n",
    "train_best1 = best_models(train_results1.dropna())\n",
    "test_best1 = best_models(test_results1.dropna())\n",
    "test_best1['round'] = 1\n",
    "\n",
    "\n",
    "train_results2 = pd.read_csv(os.path.join('tables', 'impute_train_2.csv'))\n",
    "test_results2 = pd.read_csv(os.path.join('tables', 'impute_test_2.csv'))\n",
    "train_best2 = best_models(train_results2.dropna())\n",
    "test_best2 = best_models(test_results2.dropna())\n",
    "\n",
    "test_best2['round'] = 2"
   ]
  },
  {
   "cell_type": "markdown",
   "id": "9239a5da",
   "metadata": {},
   "source": [
    "<b> Best models based on average performance of all folds </b>"
   ]
  },
  {
   "cell_type": "code",
   "execution_count": null,
   "id": "a3c998db",
   "metadata": {},
   "outputs": [],
   "source": [
    "# Round1\n",
    "fig, axs = plt.subplots(1, 3, figsize=(22.5*cm, 8.5*cm))\n",
    "p_dict = {'reg': 'Regression', 'ordinal': 'Ordinal', 'class': 'Classification'}\n",
    "ps = ['reg', 'ordinal', 'class']\n",
    "\n",
    "average_test_best1 = test_best1.groupby(['variable', 'missing', 'model', 'problem', 'round']).mean().reset_index()\n",
    "\n",
    "for i in range(3):\n",
    "    sns.swarmplot(x='model', y='score', hue='model', ax=axs[i], dodge=False,\n",
    "                data=average_test_best1[average_test_best1['problem']==ps[i]].sort_values(by='model', ascending=False)\n",
    "               ).set_title(p_dict[ps[i]])\n",
    "    m = average_test_best1[average_test_best1['problem']==ps[i]].sort_values(by='model', ascending=False)['model'].unique()\n",
    "    axs[i].set_xticklabels([mi + \"\\n(n=\" + str( np.sum((average_test_best1['problem']==ps[i]) & (average_test_best1['model']==mi)))\n",
    "                                                       + \")\" for mi in m])\n",
    "    \n",
    "    axs[i].get_legend().remove()\n",
    "    if i == 0:\n",
    "        axs[i].set_ylabel(\"R2 score\")\n",
    "    else:\n",
    "        axs[i].set_ylabel(\"F1 score\")\n",
    "plt.tight_layout()\n",
    "# plt.savefig('figures/figure3.pdf', dpi=300)"
   ]
  },
  {
   "cell_type": "code",
   "execution_count": null,
   "id": "02989d1e",
   "metadata": {},
   "outputs": [],
   "source": [
    "# Round 2\n",
    "fig, axs = plt.subplots(1, 3, figsize=(22.5*cm, 8.5*cm))\n",
    "p_dict = {'reg': 'Regression', 'ordinal': 'Ordinal', 'class': 'Classification'}\n",
    "ps = ['reg', 'ordinal', 'class']\n",
    "\n",
    "average_test_best2 = test_best2.groupby(['variable', 'missing', 'model', 'problem', 'round']).mean().reset_index()\n",
    "\n",
    "for i in range(3):\n",
    "    sns.swarmplot(x='model', y='score', hue='model', ax=axs[i], dodge=False,\n",
    "                data=average_test_best2[average_test_best2['problem']==ps[i]].sort_values(by='model', ascending=False)\n",
    "               ).set_title(p_dict[ps[i]])\n",
    "    m = average_test_best2[average_test_best2['problem']==ps[i]].sort_values(by='model', ascending=False)['model'].unique()\n",
    "    axs[i].set_xticklabels([mi + \"\\n(n=\" + str( np.sum((average_test_best2['problem']==ps[i]) & (average_test_best2['model']==mi)))\n",
    "                                                       + \")\" for mi in m])\n",
    "    \n",
    "    axs[i].get_legend().remove()\n",
    "    if i == 0:\n",
    "        axs[i].set_ylabel(\"R2 score\")\n",
    "    else:\n",
    "        axs[i].set_ylabel(\"F1 score\")\n",
    "plt.tight_layout()\n",
    "plt.savefig('figures/figure3.pdf', dpi=300)"
   ]
  },
  {
   "cell_type": "markdown",
   "id": "c1f85f6c",
   "metadata": {},
   "source": [
    "# Completeness"
   ]
  },
  {
   "cell_type": "code",
   "execution_count": null,
   "id": "0705bd15",
   "metadata": {},
   "outputs": [],
   "source": [
    "def form(v):\n",
    "    if v in ['motscore', 'miscore', \n",
    "             'ocularh', 'ocularv', 'sacinith', 'sacinitv', 'sacvelh', 'sacvelv', 'dysarth', 'tongue', 'fingtapr',\n",
    "             'fingtapl', 'prosupr', 'prosupl', 'luria', 'rigarmr', 'rigarml', 'brady', 'dysttrnk', 'dystrue',\n",
    "             'dystlue', 'dystrle', 'dystlle', 'chorface', 'chorbol', 'chortrnk', 'chorrue', 'chorlue', 'chorrle',\n",
    "             'chorlle', 'gait', 'tandem', 'retropls', 'diagconf']:\n",
    "        return 'Motor'\n",
    "    elif v in ['tfcscore', 'occupatn', 'finances', 'chores', 'adl', 'carelevl']:\n",
    "        return 'TFC'\n",
    "    elif v in ['fascore', 'fiscore',\n",
    "               'emplusl', 'emplany', 'volunt', 'fafinan', 'grocery', 'cash', 'supchild', 'drive', 'housewrk', 'laundry',\n",
    "               'prepmeal', 'telephon', 'ownmeds', 'feedself', 'dress', 'bathe', 'pubtrans', 'walknbr', 'walkfall',\n",
    "               'walkhelp', 'comb', 'trnchair', 'bed', 'toilet', 'carehome', 'indepscl']:\n",
    "        return 'Function'\n",
    "    elif v in ['depscore', 'irascore', 'psyscore', 'aptscore', 'exfscore', 'pbas1sv', 'pbas1fr', 'pbas1wo', 'pbas2sv',\n",
    "               'pbas2fr', 'pbas2wo', 'pbas3sv', 'pbas3fr', 'pbas3wo', 'pbas4sv', 'pbas4fr', 'pbas4wo', 'pbas5sv',\n",
    "               'pbas5fr', 'pbas5wo', 'pbas6sv', 'pbas6fr', 'pbas6wo', 'pbas7sv', 'pbas7fr', 'pbas7wo', 'pbas8sv',\n",
    "               'pbas8fr', 'pbas8wo', 'pbas9sv', 'pbas9fr', 'pbas9wo', 'pbas10sv', 'pbas10sm__1', 'pbas10sm__2',\n",
    "               'pbas10sm__3', 'pbas10sm__4', 'pbas10sm__5', 'pbas10fr', 'pbas10wo', 'pbas11sv', 'pbas11fr', 'pbas11wo',\n",
    "               'pbainfo', 'pbahshd']:\n",
    "        return 'PBA-S'\n",
    "    elif v in ['hxalcab', 'hxtobab', 'hxtobcpd', 'hxtobyos', 'hxpacky', 'hxdrugab', 'hxmar', 'hxmarfrq', 'hxher',\n",
    "               'hxherfrq', 'hxcoc', 'hxcocfrq', 'hxclb', 'hxclbfrq', 'hxamp', 'hxampfrq', 'hxrit', 'hxritfrq', 'hxhal',\n",
    "               'hxhalfrq', 'hxinh', 'hxinhfrq', 'hxopi', 'hxopifrq', 'hxpak', 'hxpakfrq', 'hxbar', 'hxbarfrq', 'hxtrq',\n",
    "               'hxtrqfrq']:\n",
    "        return 'MHx'\n",
    "    elif v in ['height', 'weight', 'bmi', 'hdcat',\n",
    "               'alcab', 'alcunits', 'tobab', 'tobcpd', 'tobyos', 'packy', 'cafab', 'cafpd', 'drugab', 'mar', 'marfrq',\n",
    "               'her', 'herfrq', 'coc', 'cocfrq', 'clb', 'clbfrq', 'amp', 'ampfrq', 'rit', 'ritfrq', 'hal', 'halfrq',\n",
    "               'inh', 'inhfrq', 'opi', 'opifrq', 'pak', 'pakfrq', 'bar', 'barfrq', 'trq', 'trqfrq']:\n",
    "        return 'Var Items I'\n",
    "    elif v in ['updsc', 'maristat', 'res', 'isced', 'jobclas', 'jobpaid',\n",
    "               'rdcwk', 'rdcwkd', 'rdcwkhw', # Baseline\n",
    "               'emplnrsn', 'emplnrd', 'ssdb', 'rtrnwk', 'rtrddur']:\n",
    "        return 'Var Items II'\n",
    "    elif v in ['gen1', 'gen2', 'gen3', 'gen4', 'gen5', 'gen6', 'sdmt', 'sdmt1', 'sdmt2', 'sdmtnd', 'verfct', 'verfctd',\n",
    "               'verfct5', 'verfct6', 'verfct7', 'verfctnd', 'scnt', 'scnt1', 'scnt2', 'scnt3','scntnd', 'swrt', 'swrt1',\n",
    "               'swrt2', 'swrt3', 'swrtnd', 'sit', 'sit1', 'sit2', 'sit3', 'trl', 'trla1', 'trla2', 'trla3', 'trlb1',\n",
    "               'trlb2', 'trlb3', 'verflt', 'verflt05', 'verflt06', 'verflt07']:\n",
    "        return 'Cognitive'\n",
    "    elif v == 'mmsetotal':\n",
    "        return 'MMSE'\n",
    "    elif v in ['tug', 'tug1', 'scst', 'scst1']:\n",
    "        return 'Physiotherapy'\n",
    "    elif v in ['wpaiscr1', 'wpaiscr2', 'wpaiscr3', 'wpaiscr4']:\n",
    "        return 'WPAI-SHP'\n",
    "    elif v in ['scoring', 'pf', 'rp', 'bp', 'gh', 'vt', 'sf', 're', 'mh', 'pcs', 'mcs']:\n",
    "        return 'SF-12'\n",
    "    elif v in ['anxscore', 'hads_depscore', 'irrscore', 'outscore', 'inwscore']:\n",
    "        return 'HADS-SIS'\n",
    "    elif v in ['region', 'sex', 'race', 'handed', 'hxsid', 'dssage', 'dsplace', 'dsend', 'caghigh', 'caglow',\n",
    "               'momhd', 'momagesx', 'dadhd', 'dadagesx', 'fhx',\n",
    "               'ccmtr', 'ccmtrage', 'sxsubj', 'sxsubjm', 'sxs_m', 'sxs_c', 'sxs_p', 'sxs_o', 'sxfam',\n",
    "               'sxfamm', 'sxf_m', 'sxf_c', 'sxf_p', 'sxf_o', 'hddiagn', 'sxest', 'sxrater', 'sxestcfd', 'sxreas', 'sxgs',\n",
    "               'sxraterm', 'sxr_m', 'sxr_c', 'sxr_p', 'sxr_o', 'ccdep', 'ccdepage', 'ccirb', 'ccirbage',\n",
    "               'ccvab', 'ccvabage', 'ccapt', 'ccaptage', 'ccpob', 'ccpobage', 'ccpsy', 'ccpsyage', 'ccpsyfh', 'cccog',\n",
    "               'cccogage', 'xgwas', 'xbsp', 'xpheno', 'xmorpho', 'ximage']:\n",
    "        return 'Profile'\n",
    "    elif v in ['sid1', 'sid2', 'sid3', 'sid4', 'sid5', 'int1', 'int2', 'int3', 'int4', 'int5', 'int6', 'sbh1', 'sbh1n',\n",
    "               'sbh2', 'sbh3', 'sbh3n', 'sbh4', 'sbh4n', 'sbh5', 'sbh6', 'sbh7']:\n",
    "        return 'C-SSRS'\n",
    "    else:\n",
    "        return 'null'"
   ]
  },
  {
   "cell_type": "code",
   "execution_count": null,
   "id": "2b9e9f45",
   "metadata": {},
   "outputs": [],
   "source": [
    "def completeness(preprocessed_data, original_data):\n",
    "    rows = preprocessed_data.shape[0]\n",
    "    rows2 = original_data.shape[0]\n",
    "        \n",
    "    preprocessed_data = preprocessed_data.isnull().sum().reset_index()\n",
    "    preprocessed_data.columns = ['variable', 'missing']\n",
    "    \n",
    "    original_data = original_data.isnull().sum().reset_index()\n",
    "    original_data.columns = ['variable', 'missing']\n",
    "\n",
    "    g1 = preprocessed_data['variable'].apply(lambda x: form(x) if form(x) !='null' else form(x.split('_')[0])) \n",
    "    preprocessed_data['group'] = g1.astype(str)\n",
    "    \n",
    "    g2 = original_data['variable'].apply(lambda x: form(x) if form(x) !='null' else form(x.split('_')[0])) \n",
    "    original_data['group'] = g2.astype(str)\n",
    "\n",
    "    preprocessed_data = preprocessed_data.groupby('group').missing.aggregate(['sum', 'count']) # .sort_values('mean')\n",
    "    original_data = original_data.groupby('group').missing.aggregate(['sum', 'count']) # .sort_values('mean')\n",
    "\n",
    "    \n",
    "    \n",
    "    cm = 1/2.54\n",
    "    plt.figure(figsize=(17*cm, 10*cm))\n",
    "    w = .3\n",
    "    plt.xticks(rotation=90)\n",
    "    forms = ['Profile', 'MHx', 'Var Items I', 'Var Items II', 'Motor', 'Function', 'TFC',\n",
    "             'Cognitive', 'MMSE', 'Physiotherapy', 'PBA-S', 'SF-12', 'HADS-SIS', 'WPAI-SHP', 'C-SSRS']\n",
    "    \n",
    "    for i, g in enumerate(forms):\n",
    "        if g in preprocessed_data.index:\n",
    "            p1 = plt.bar(x=i,\n",
    "                         height=100 * (1 - (preprocessed_data.loc[g,'sum'] / (rows * preprocessed_data.loc[g,'count']) )),\n",
    "                         # yerr=preprocessed_data.loc[g,'std'],\n",
    "                         width=w,\n",
    "                         color='C0',\n",
    "                         label='Pre-Processed',\n",
    "                        )\n",
    "        else:\n",
    "            p1 = plt.bar(x=i,\n",
    "                         height=0.0,\n",
    "                         #yerr=0.0,\n",
    "                         width=w,\n",
    "                         color='C0',\n",
    "                         label='Pre-Processed',\n",
    "                        )\n",
    "        if g in original_data.index:\n",
    "            p2 = plt.bar(x=i+w,\n",
    "                         height=100 * (1 - (original_data.loc[g,'sum'] / (rows2 * original_data.loc[g,'count']))),\n",
    "                         # yerr=original_data.loc[g,'std'],\n",
    "                         width=w,\n",
    "                         color='C1',\n",
    "                         label='Original',\n",
    "                        )\n",
    "        else:\n",
    "            p2 = plt.bar(x=i,\n",
    "                         height=0.0,\n",
    "                         #yerr=0.0,\n",
    "                         width=w,\n",
    "                         color='C0',\n",
    "                         label='Original',\n",
    "                        )\n",
    "    plt.legend([p1, p2], ['Pre-Processed', 'Original'], ncol=2,\n",
    "               bbox_to_anchor=(0., 1.02, 1., .102), loc=8, borderaxespad=0.)\n",
    "    plt.xticks([i + w*.5 for i in range(len(forms))], forms)\n",
    "    \n",
    "    plt.ylim(0, 105)\n",
    "    j = -.3\n",
    "\n",
    "    plt.ylabel('Completeness %')\n",
    "    plt.xlabel('Form')\n",
    "    plt.margins(0.01, 0.01)\n",
    "\n",
    "    plt.tight_layout()\n",
    "    # plt.savefig('figures/completeness.pdf', bbox_inches = 'tight', pad_inches = 0.05, dpi=1200)\n",
    "    plt.savefig('figures/figure2.pdf', dpi=300)"
   ]
  },
  {
   "cell_type": "code",
   "execution_count": null,
   "id": "b73a9bce",
   "metadata": {},
   "outputs": [],
   "source": [
    "completeness(df_filt.copy(), df.copy())"
   ]
  },
  {
   "cell_type": "markdown",
   "id": "5c0885ed",
   "metadata": {},
   "source": [
    " "
   ]
  }
 ],
 "metadata": {
  "kernelspec": {
   "display_name": "Python 3 (ipykernel)",
   "language": "python",
   "name": "python3"
  },
  "language_info": {
   "codemirror_mode": {
    "name": "ipython",
    "version": 3
   },
   "file_extension": ".py",
   "mimetype": "text/x-python",
   "name": "python",
   "nbconvert_exporter": "python",
   "pygments_lexer": "ipython3",
   "version": "3.9.6"
  }
 },
 "nbformat": 4,
 "nbformat_minor": 5
}
