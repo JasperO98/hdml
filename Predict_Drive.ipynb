{
 "cells": [
  {
   "cell_type": "markdown",
   "id": "c756510d",
   "metadata": {},
   "source": [
    "# Import"
   ]
  },
  {
   "cell_type": "code",
   "execution_count": null,
   "id": "77b0b69a",
   "metadata": {},
   "outputs": [],
   "source": [
    "import numpy as np\n",
    "\n",
    "from sklearn.model_selection import KFold\n",
    "from sklearn.linear_model import LogisticRegression\n",
    "from lightgbm import LGBMClassifier\n",
    "\n",
    "from sklearn.metrics import f1_score, accuracy_score, auc, roc_curve"
   ]
  },
  {
   "cell_type": "markdown",
   "id": "cfe5bc69",
   "metadata": {},
   "source": [
    "# Load Data"
   ]
  },
  {
   "cell_type": "code",
   "execution_count": null,
   "id": "dba43887",
   "metadata": {},
   "outputs": [],
   "source": [
    "cols = np.load('data/reshaped/imputed_pre_and_manifest_12m_5y.npz')['columns']\n",
    "data = np.load('data/reshaped/imputed_pre_and_manifest_12m_5y.npz')['data'].reshape((-1, len(cols)))\n",
    "data = data[~np.all(np.isnan(data), axis=1)]"
   ]
  },
  {
   "cell_type": "markdown",
   "id": "126e765b",
   "metadata": {},
   "source": [
    "# Train"
   ]
  },
  {
   "cell_type": "code",
   "execution_count": null,
   "id": "79d1b696",
   "metadata": {},
   "outputs": [],
   "source": [
    "X = data[:, cols != 'drive']\n",
    "y = data[:, cols == 'drive'].reshape(-1)\n",
    "counts = np.unique(y, return_counts=True)[1]\n",
    "class_weight = dict(zip([0, 1], counts / counts.sum()))\n",
    "kf = KFold(n_splits=10, random_state=0, shuffle=True)\n",
    "metrics = []\n",
    "\n",
    "for train_index, test_index in kf.split(X):\n",
    "    X_train, X_test = X[train_index], X[test_index]\n",
    "    y_train, y_test = y[train_index], y[test_index]\n",
    "    \n",
    "    est = LGBMClassifier(class_weight=class_weight)\n",
    "    est.fit(X_train, y_train)\n",
    "    y_test_pred = est.predict(X_test)\n",
    "    fpr, tpr, thresholds = roc_curve(y_test, y_test_pred, pos_label=1)\n",
    "    AUC = auc(fpr, tpr)\n",
    "    ACC = accuracy_score(y_test, y_test_pred)\n",
    "    F1 = f1_score(y_test, y_test_pred)\n",
    "    metrics.append([AUC, ACC, F1])\n",
    "np.array(metrics).mean(axis=0)"
   ]
  },
  {
   "cell_type": "markdown",
   "id": "74bd1e3e",
   "metadata": {},
   "source": [
    " "
   ]
  }
 ],
 "metadata": {
  "kernelspec": {
   "display_name": "Python 3 (ipykernel)",
   "language": "python",
   "name": "python3"
  },
  "language_info": {
   "codemirror_mode": {
    "name": "ipython",
    "version": 3
   },
   "file_extension": ".py",
   "mimetype": "text/x-python",
   "name": "python",
   "nbconvert_exporter": "python",
   "pygments_lexer": "ipython3",
   "version": "3.8.13"
  }
 },
 "nbformat": 4,
 "nbformat_minor": 5
}
