{
 "cells": [
  {
   "cell_type": "markdown",
   "metadata": {},
   "source": [
    "# Imports"
   ]
  },
  {
   "cell_type": "code",
   "execution_count": null,
   "metadata": {},
   "outputs": [],
   "source": [
    "import os\n",
    "from tqdm.auto import tqdm\n",
    "\n",
    "from random import seed as rseed\n",
    "\n",
    "import pandas as pd\n",
    "import numpy as np\n",
    "import seaborn as sns\n",
    "import matplotlib.pyplot as plt\n",
    "\n",
    "# Pre process\n",
    "from sklearn.preprocessing import StandardScaler\n",
    "\n",
    "# Models\n",
    "from sklearn.linear_model import LinearRegression, Ridge, SGDRegressor, Lasso, Lars, ElasticNet\n",
    "from sklearn.inspection import permutation_importance\n",
    "from sklearn.svm import LinearSVR\n",
    "\n",
    "from sklearn.neural_network import MLPRegressor\n",
    "from sklearn.ensemble import RandomForestRegressor\n",
    "from scipy.optimize import curve_fit\n",
    "\n",
    "# Train and test\n",
    "from sklearn.model_selection import train_test_split\n",
    "from sklearn.model_selection import KFold\n",
    "\n",
    "# Metrics\n",
    "from sklearn.metrics import r2_score\n",
    "from sklearn.metrics import mean_squared_error\n",
    "from sklearn.metrics import mean_absolute_error"
   ]
  },
  {
   "cell_type": "markdown",
   "metadata": {},
   "source": [
    "# Load data"
   ]
  },
  {
   "cell_type": "code",
   "execution_count": null,
   "metadata": {},
   "outputs": [],
   "source": [
    "df = pd.read_csv('data/imputed_pre_and_manifest.csv')\n",
    "df.shape"
   ]
  },
  {
   "cell_type": "markdown",
   "metadata": {},
   "source": [
    "<b> Number of visits of patients which were pre-manifest and became manifest </b>"
   ]
  },
  {
   "cell_type": "code",
   "execution_count": null,
   "metadata": {},
   "outputs": [],
   "source": [
    "pre = df['subjid'].isin(df.loc[df['hdcat'] == 2, 'subjid'].unique())\n",
    "man = df['subjid'].isin(df.loc[df['hdcat'] == 3, 'subjid'].unique())\n",
    "sel = df[(pre) & (man)]\n",
    "sel.shape"
   ]
  },
  {
   "cell_type": "code",
   "execution_count": null,
   "metadata": {},
   "outputs": [],
   "source": [
    "x, y = np.unique(sel[sel['hdcat'] == 2].groupby('subjid').subjid.count().values, return_counts=True)\n",
    "plt.bar(x,y, width=.6)\n",
    "plt.ylabel('Count')\n",
    "plt.xticks(range(1, 10))\n",
    "plt.xlabel('Visits before patients are manifest')"
   ]
  },
  {
   "cell_type": "code",
   "execution_count": null,
   "metadata": {},
   "outputs": [],
   "source": [
    "x, y = np.unique(sel[sel['hdcat'] == 3].groupby('subjid').subjid.count().values, return_counts=True)\n",
    "plt.bar(x,y, width=.6)\n",
    "plt.ylabel('Count')\n",
    "plt.xticks(range(1, 7))\n",
    "plt.xlabel('Visits when patients are manifest')"
   ]
  },
  {
   "cell_type": "markdown",
   "metadata": {},
   "source": [
    "# Select training data (only diagnosed AAO, no estimates)"
   ]
  },
  {
   "cell_type": "code",
   "execution_count": null,
   "metadata": {},
   "outputs": [],
   "source": [
    "unknown = df[df.hddiagn_est == 1].groupby('subjid').head(1) # Estimated or unknown\n",
    "known = df[df.hddiagn_est == 0].groupby('subjid').head(1) # Real HDdiagn\n",
    "\n",
    "print(unknown.shape, known.shape)"
   ]
  },
  {
   "cell_type": "code",
   "execution_count": null,
   "metadata": {},
   "outputs": [],
   "source": [
    "x, y = np.unique(known['caghigh'], return_counts=True)\n",
    "plt.bar(x, y)\n",
    "plt.xlabel('Larger CAG repeat size')\n",
    "plt.ylabel('Counts')\n",
    "plt.savefig('figures/cag_counts.pdf', dpi=1200)"
   ]
  },
  {
   "cell_type": "markdown",
   "metadata": {},
   "source": [
    "<b> AAO duration to AAO </b>"
   ]
  },
  {
   "cell_type": "code",
   "execution_count": null,
   "metadata": {
    "scrolled": true
   },
   "outputs": [],
   "source": [
    "# Convert\n",
    "known.loc[known.hddiagn > 0, 'hddiagn'] = (known.age - known.hddiagn)\n",
    "known.loc[known.hddiagn < 0, 'hddiagn'] = (known.age - known.hddiagn) + 1\n",
    "\n",
    "\n",
    "fig, axs = plt.subplots(1, 2, figsize=(10,5))\n",
    "axs[0].boxplot(known.hddiagn)\n",
    "axs[0].set_ylabel('AAO')\n",
    "axs[0].set_xticks([])\n",
    "\n",
    "axs[1].boxplot(known.caghigh)\n",
    "axs[1].set_ylabel('CAG repeat size')\n",
    "axs[1].set_xticks([])\n",
    "pass"
   ]
  },
  {
   "cell_type": "markdown",
   "metadata": {},
   "source": [
    "# Define and refit Langbehn formula"
   ]
  },
  {
   "cell_type": "code",
   "execution_count": null,
   "metadata": {},
   "outputs": [],
   "source": [
    "def func(x, a, b, c):\n",
    "    return a + np.exp(c - (b * x))\n",
    "\n",
    "def refit_langbehn(subset):\n",
    "    a_langbehn = 21.54\n",
    "    b_langbehn = 0.1460\n",
    "    c_langbehn = 9.556\n",
    "    \n",
    "    x = subset['caghigh'].values\n",
    "    y = subset['hddiagn'].values\n",
    "\n",
    "    popt, pcov = curve_fit(func, x, y, p0=np.array([a_langbehn, b_langbehn, c_langbehn]))\n",
    "    print('a={:.3f}\\nb={:.3f}\\nc={:.3f}'.format(*popt))\n",
    "    return lambda x: func(x, *popt), popt"
   ]
  },
  {
   "cell_type": "markdown",
   "metadata": {},
   "source": [
    "<b> Original Langbehn formula </b>"
   ]
  },
  {
   "cell_type": "code",
   "execution_count": null,
   "metadata": {},
   "outputs": [],
   "source": [
    "# langbehn_err = lambda x: np.sqrt(35.55 + np.exp(17.72 - 0.3269 * x))\n",
    "langbehn = lambda x: 21.54 + np.exp( 9.556 - (0.1460 * x))"
   ]
  },
  {
   "cell_type": "markdown",
   "metadata": {},
   "source": [
    "<b> Langbehn refitted (41<=CAGhigh<=56)"
   ]
  },
  {
   "cell_type": "code",
   "execution_count": null,
   "metadata": {},
   "outputs": [],
   "source": [
    "original_cag_refitted, _ = refit_langbehn(known[(known['caghigh'] >=41) & (known['caghigh'] <= 56)].copy())"
   ]
  },
  {
   "cell_type": "markdown",
   "metadata": {},
   "source": [
    "<b> Langbehn refitted (full CAG range) </b>"
   ]
  },
  {
   "cell_type": "code",
   "execution_count": null,
   "metadata": {},
   "outputs": [],
   "source": [
    "full_cag_refitted, _ = refit_langbehn(known.copy())"
   ]
  },
  {
   "cell_type": "markdown",
   "metadata": {},
   "source": [
    "<b> Aggregted Model Langbehn refitted on CAG>=41, linear regression for CAG<=40</b>"
   ]
  },
  {
   "cell_type": "code",
   "execution_count": null,
   "metadata": {},
   "outputs": [],
   "source": [
    "agg_langbehn, agg_popt = refit_langbehn(known[(known['caghigh'] >=41)].copy())\n",
    "\n",
    "# Linear regression\n",
    "filt = known[known['caghigh'] <= 40].copy()\n",
    "\n",
    "x = filt['caghigh'].values.reshape(-1,1)\n",
    "y = filt['hddiagn'].values\n",
    "\n",
    "agg_linr = LinearRegression()\n",
    "agg_linr.fit(x, y)\n",
    "\n",
    "print('\\nLinear Regression:\\ncoef={:.3f}\\nintercept={:.3f}'.format(*agg_linr.coef_, agg_linr.intercept_))\n",
    "\n",
    "agg_model = lambda x: np.array([func(xi, *agg_popt) if xi > 40 \n",
    "                                else agg_linr.intercept_ + (agg_linr.coef_ * xi) for xi in x]).astype(float)"
   ]
  },
  {
   "cell_type": "markdown",
   "metadata": {},
   "source": [
    "# Train ML and Evaluate all models"
   ]
  },
  {
   "cell_type": "code",
   "execution_count": null,
   "metadata": {},
   "outputs": [],
   "source": [
    "def evaluate(y_true, y_pred, outlier=False):\n",
    "    # max_ae = np.max(np.abs(y_true - y_pred))\n",
    "    if outlier:\n",
    "        u, o = np.mean(y_true), np.std(y_true)\n",
    "        mask = np.logical_or((y_true < u-o), (y_true > u+o))\n",
    "        y_true, y_pred = y_true[mask], y_pred[mask]\n",
    "    \n",
    "    mae = np.mean(np.abs(y_true - y_pred))\n",
    "    rmse = np.sqrt(np.mean(np.power(y_true - y_pred, 2)))\n",
    "    r2 = r2_score(y_true, y_pred)\n",
    "    return [mae, rmse, r2]"
   ]
  },
  {
   "cell_type": "code",
   "execution_count": null,
   "metadata": {},
   "outputs": [],
   "source": [
    "# The models are trained on static variables which are the same for manifest and pre-manifest patients, namely\n",
    "# the larger and lower CAG repeatsize, gender, parent AAO, whether the mom and or dad had HD and whether \n",
    "# there was a family history for HD.\n",
    "def train(model, cag_range, fit, cols):\n",
    "    # Define seeds\n",
    "    seed_value = 42\n",
    "\n",
    "    # 1. Set `PYTHONHASHSEED` environment variable at a fixed value\n",
    "    os.environ['PYTHONHASHSEED'] = str(seed_value)\n",
    "\n",
    "    # 2. Set `python` built-in pseudo-random generator at a fixed value\n",
    "    rseed(seed_value)\n",
    "\n",
    "    # 3. Set `numpy` pseudo-random generator at a fixed value\n",
    "    np.random.seed(seed_value)\n",
    "\n",
    "    # Select data\n",
    "    label = 'hddiagn'\n",
    "    subset = known.groupby('subjid').first().loc[:, [label] + cols]\n",
    "    subset = subset.loc[((subset['caghigh'] >= cag_range[0]) & (subset['caghigh'] <= cag_range[1]))]\n",
    "    print('Dropped {} samples'.format(subset.isnull().any(axis=1).sum()))\n",
    "    subset.dropna(inplace=True)\n",
    "    n = subset.shape[0]\n",
    "    print('{} samples left'.format(n)) \n",
    "    \n",
    "    # Get input and labels\n",
    "    input_data = subset[cols].values\n",
    "    targets = subset[label].values\n",
    "    \n",
    "    # Evaluation results\n",
    "    test_results = []\n",
    "    \n",
    "    # Fold labels and predictions\n",
    "    test_labels = []\n",
    "    test_predictions = []\n",
    "    \n",
    "    # Train and Evaluate\n",
    "    kf = KFold(n_splits=10, shuffle=True, random_state=seed_value)\n",
    "    for fold, (train_idx, test_idx) in enumerate(kf.split(input_data, targets)):\n",
    "        # K-fold\n",
    "        X_train, X_valid = input_data[train_idx], input_data[test_idx]\n",
    "        y_train, y_valid = targets[train_idx], targets[test_idx]\n",
    "\n",
    "        # Scale\n",
    "        if fit:\n",
    "            model.fit(X_train, y_train)\n",
    "        \n",
    "        # prediction\n",
    "        try:\n",
    "            pred = model.predict(X_valid)\n",
    "        except:\n",
    "            pred = model(X_valid.reshape(-1))\n",
    "        \n",
    "        # Evaluate\n",
    "        test_results.append(evaluate(y_valid, pred))\n",
    "        \n",
    "    return pd.DataFrame(np.mean(test_results, axis=0).reshape(1, -1), columns=['MAE', 'RMSE', 'R2'])           "
   ]
  },
  {
   "cell_type": "code",
   "execution_count": null,
   "metadata": {},
   "outputs": [],
   "source": [
    "from sklearn.svm import LinearSVR\n",
    "from sklearn.neighbors import KNeighborsRegressor\n",
    "from sklearn.neural_network import MLPRegressor\n",
    "from catboost import CatBoostRegressor\n",
    "from xgboost import XGBRegressor\n",
    "from lightgbm import LGBMRegressor\n",
    "\n",
    "\n",
    "\n",
    "def train_models(cag_min, cag_max):\n",
    "    langbehn_models = [langbehn, original_cag_refitted, full_cag_refitted, agg_model]\n",
    "    langbehn_names = ['Langbehn original (41-56)', 'Langbehn refitted (41-56)',\n",
    "                      'Langbehn refitted (36-59)', 'Linear Regression (36-40) + Langbehn refitted (41-59)'\n",
    "                     ]\n",
    "    \n",
    "    models = langbehn_models + [LinearRegression(),\n",
    "                                RandomForestRegressor(random_state=42),\n",
    "                                CatBoostRegressor(verbose=0, random_seed=42),\n",
    "                                XGBRegressor(random_state=42),\n",
    "                                LGBMRegressor(random_state=42),\n",
    "                                MLPRegressor(max_iter=1000, random_state=42),\n",
    "                                LinearSVR(random_state=42, max_iter=25000),\n",
    "                                KNeighborsRegressor(5, weights='distance'),\n",
    "                               ]\n",
    "    \n",
    "    names = langbehn_names + ['Linear Regression ({}-{})'.format(cag_min, cag_max),\n",
    "                              'Random Forest ({}-{})'.format(cag_min, cag_max),\n",
    "                              'CatBoost ({}-{})'.format(cag_min, cag_max),\n",
    "                              'XGBoost ({}-{})'.format(cag_min, cag_max),\n",
    "                              'LGBM ({}-{})'.format(cag_min, cag_max),\n",
    "                              'MLP ({}-{})'.format(cag_min, cag_max),\n",
    "                              'Linear SVM ({}-{})'.format(cag_min, cag_max),\n",
    "                              'KNN ({}-{})'.format(cag_min, cag_max),\n",
    "                             ]\n",
    "    all_results = []\n",
    "    \n",
    "    # Eval\n",
    "    for name, mod in zip(names, models):\n",
    "        print('-' * 40)\n",
    "        print(name)\n",
    "        if 'Langbehn' in name:\n",
    "            results = train(mod, cag_range=(cag_min, cag_max), fit=False, cols=['caghigh'])\n",
    "        else:\n",
    "            results = train(mod, cag_range=(cag_min, cag_max), fit=True,\n",
    "                                              cols=['caghigh', 'caglow', 'sex', 'parentagesx', 'momhd_0.0', 'momhd_1.0',\n",
    "                                                    'dadhd_0.0', 'dadhd_1.0', 'fhx'])\n",
    "        results.index = [name]\n",
    "        all_results.append(list(results.reset_index().values.reshape(-1)))\n",
    "        print()\n",
    "    \n",
    "    # Save\n",
    "    summary = pd.DataFrame(all_results, columns=['Model', 'MAE', 'RMSE', 'R2']).set_index('Model').sort_values('R2')\n",
    "    summary.to_csv(os.path.join('tables', 'summary_AAO_{}-{}_models.csv'.format(cag_min, cag_max)), float_format='%.3f')\n",
    "    return summary"
   ]
  },
  {
   "cell_type": "markdown",
   "metadata": {},
   "source": [
    "<b> Evaluate/fit models on CAG=41-56 </b>"
   ]
  },
  {
   "cell_type": "code",
   "execution_count": null,
   "metadata": {},
   "outputs": [],
   "source": [
    "cag_min = 41\n",
    "cag_max = 56\n",
    "\n",
    "train_models(cag_min, cag_max)"
   ]
  },
  {
   "cell_type": "markdown",
   "metadata": {},
   "source": [
    "<b> Evaluate/fit models on CAG=36-59 </b>"
   ]
  },
  {
   "cell_type": "code",
   "execution_count": null,
   "metadata": {
    "scrolled": false
   },
   "outputs": [],
   "source": [
    "cag_min = 36\n",
    "cag_max = 59\n",
    "\n",
    "train_models(cag_min, cag_max)"
   ]
  },
  {
   "cell_type": "markdown",
   "metadata": {},
   "source": [
    " "
   ]
  }
 ],
 "metadata": {
  "kernelspec": {
   "display_name": "Python 3 (ipykernel)",
   "language": "python",
   "name": "python3"
  },
  "language_info": {
   "codemirror_mode": {
    "name": "ipython",
    "version": 3
   },
   "file_extension": ".py",
   "mimetype": "text/x-python",
   "name": "python",
   "nbconvert_exporter": "python",
   "pygments_lexer": "ipython3",
   "version": "3.9.6"
  }
 },
 "nbformat": 4,
 "nbformat_minor": 2
}
